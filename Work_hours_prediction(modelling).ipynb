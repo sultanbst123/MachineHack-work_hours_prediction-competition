{
  "nbformat": 4,
  "nbformat_minor": 0,
  "metadata": {
    "colab": {
      "name": "Work_hours_prediction(modelling).ipynb",
      "provenance": [],
      "collapsed_sections": [
        "qekBFYOHTc6N",
        "-Xn4BKlIWyA5",
        "TJxetJBsgoxm",
        "tkee6lhWkCub",
        "ThQTaw8UhLSA",
        "ng5AnvRbgwZ3",
        "idbms6YMrovo",
        "14_QJbgatRwW"
      ],
      "mount_file_id": "1vlzyN9gGU7bbdCBI5cNaZ9JZmI0T-MR7",
      "authorship_tag": "ABX9TyPzPm62IAowKZZsufFa30NC",
      "include_colab_link": true
    },
    "kernelspec": {
      "name": "python3",
      "display_name": "Python 3"
    },
    "language_info": {
      "name": "python"
    },
    "widgets": {
      "application/vnd.jupyter.widget-state+json": {
        "0850d3f6977a44098690270b33c31a68": {
          "model_module": "@jupyter-widgets/controls",
          "model_name": "HBoxModel",
          "model_module_version": "1.5.0",
          "state": {
            "_view_name": "HBoxView",
            "_dom_classes": [],
            "_model_name": "HBoxModel",
            "_view_module": "@jupyter-widgets/controls",
            "_model_module_version": "1.5.0",
            "_view_count": null,
            "_view_module_version": "1.5.0",
            "box_style": "",
            "layout": "IPY_MODEL_f40d506bf4754fed89f59080949813e2",
            "_model_module": "@jupyter-widgets/controls",
            "children": [
              "IPY_MODEL_35b05add212142279450ab7e6859001f",
              "IPY_MODEL_51c4e48aa9644fea8f52377bbd98dc7e",
              "IPY_MODEL_ee507d22b5a04b789bc2e78cba5e4a56"
            ]
          }
        },
        "f40d506bf4754fed89f59080949813e2": {
          "model_module": "@jupyter-widgets/base",
          "model_name": "LayoutModel",
          "model_module_version": "1.2.0",
          "state": {
            "_view_name": "LayoutView",
            "grid_template_rows": null,
            "right": null,
            "justify_content": null,
            "_view_module": "@jupyter-widgets/base",
            "overflow": null,
            "_model_module_version": "1.2.0",
            "_view_count": null,
            "flex_flow": null,
            "width": null,
            "min_width": null,
            "border": null,
            "align_items": null,
            "bottom": null,
            "_model_module": "@jupyter-widgets/base",
            "top": null,
            "grid_column": null,
            "overflow_y": null,
            "overflow_x": null,
            "grid_auto_flow": null,
            "grid_area": null,
            "grid_template_columns": null,
            "flex": null,
            "_model_name": "LayoutModel",
            "justify_items": null,
            "grid_row": null,
            "max_height": null,
            "align_content": null,
            "visibility": null,
            "align_self": null,
            "height": null,
            "min_height": null,
            "padding": null,
            "grid_auto_rows": null,
            "grid_gap": null,
            "max_width": null,
            "order": null,
            "_view_module_version": "1.2.0",
            "grid_template_areas": null,
            "object_position": null,
            "object_fit": null,
            "grid_auto_columns": null,
            "margin": null,
            "display": null,
            "left": null
          }
        },
        "35b05add212142279450ab7e6859001f": {
          "model_module": "@jupyter-widgets/controls",
          "model_name": "HTMLModel",
          "model_module_version": "1.5.0",
          "state": {
            "_view_name": "HTMLView",
            "style": "IPY_MODEL_d843a4cd081c4ec8a2da37231284250e",
            "_dom_classes": [],
            "description": "",
            "_model_name": "HTMLModel",
            "placeholder": "​",
            "_view_module": "@jupyter-widgets/controls",
            "_model_module_version": "1.5.0",
            "value": "100%",
            "_view_count": null,
            "_view_module_version": "1.5.0",
            "description_tooltip": null,
            "_model_module": "@jupyter-widgets/controls",
            "layout": "IPY_MODEL_c536f8c56833471da5219e7a2b094e94"
          }
        },
        "51c4e48aa9644fea8f52377bbd98dc7e": {
          "model_module": "@jupyter-widgets/controls",
          "model_name": "FloatProgressModel",
          "model_module_version": "1.5.0",
          "state": {
            "_view_name": "ProgressView",
            "style": "IPY_MODEL_75994a3593794265a2aeca1656e6c2a7",
            "_dom_classes": [],
            "description": "",
            "_model_name": "FloatProgressModel",
            "bar_style": "success",
            "max": 50,
            "_view_module": "@jupyter-widgets/controls",
            "_model_module_version": "1.5.0",
            "value": 50,
            "_view_count": null,
            "_view_module_version": "1.5.0",
            "orientation": "horizontal",
            "min": 0,
            "description_tooltip": null,
            "_model_module": "@jupyter-widgets/controls",
            "layout": "IPY_MODEL_46a98fbab56a4b728db97ba209a4ac69"
          }
        },
        "ee507d22b5a04b789bc2e78cba5e4a56": {
          "model_module": "@jupyter-widgets/controls",
          "model_name": "HTMLModel",
          "model_module_version": "1.5.0",
          "state": {
            "_view_name": "HTMLView",
            "style": "IPY_MODEL_a5195c36498c42e2b12494eca5fca4c7",
            "_dom_classes": [],
            "description": "",
            "_model_name": "HTMLModel",
            "placeholder": "​",
            "_view_module": "@jupyter-widgets/controls",
            "_model_module_version": "1.5.0",
            "value": " 50/50 [10:40&lt;00:00, 12.63s/it]",
            "_view_count": null,
            "_view_module_version": "1.5.0",
            "description_tooltip": null,
            "_model_module": "@jupyter-widgets/controls",
            "layout": "IPY_MODEL_78deadac2c4d484aa445117cf07dcedf"
          }
        },
        "d843a4cd081c4ec8a2da37231284250e": {
          "model_module": "@jupyter-widgets/controls",
          "model_name": "DescriptionStyleModel",
          "model_module_version": "1.5.0",
          "state": {
            "_view_name": "StyleView",
            "_model_name": "DescriptionStyleModel",
            "description_width": "",
            "_view_module": "@jupyter-widgets/base",
            "_model_module_version": "1.5.0",
            "_view_count": null,
            "_view_module_version": "1.2.0",
            "_model_module": "@jupyter-widgets/controls"
          }
        },
        "c536f8c56833471da5219e7a2b094e94": {
          "model_module": "@jupyter-widgets/base",
          "model_name": "LayoutModel",
          "model_module_version": "1.2.0",
          "state": {
            "_view_name": "LayoutView",
            "grid_template_rows": null,
            "right": null,
            "justify_content": null,
            "_view_module": "@jupyter-widgets/base",
            "overflow": null,
            "_model_module_version": "1.2.0",
            "_view_count": null,
            "flex_flow": null,
            "width": null,
            "min_width": null,
            "border": null,
            "align_items": null,
            "bottom": null,
            "_model_module": "@jupyter-widgets/base",
            "top": null,
            "grid_column": null,
            "overflow_y": null,
            "overflow_x": null,
            "grid_auto_flow": null,
            "grid_area": null,
            "grid_template_columns": null,
            "flex": null,
            "_model_name": "LayoutModel",
            "justify_items": null,
            "grid_row": null,
            "max_height": null,
            "align_content": null,
            "visibility": null,
            "align_self": null,
            "height": null,
            "min_height": null,
            "padding": null,
            "grid_auto_rows": null,
            "grid_gap": null,
            "max_width": null,
            "order": null,
            "_view_module_version": "1.2.0",
            "grid_template_areas": null,
            "object_position": null,
            "object_fit": null,
            "grid_auto_columns": null,
            "margin": null,
            "display": null,
            "left": null
          }
        },
        "75994a3593794265a2aeca1656e6c2a7": {
          "model_module": "@jupyter-widgets/controls",
          "model_name": "ProgressStyleModel",
          "model_module_version": "1.5.0",
          "state": {
            "_view_name": "StyleView",
            "_model_name": "ProgressStyleModel",
            "description_width": "",
            "_view_module": "@jupyter-widgets/base",
            "_model_module_version": "1.5.0",
            "_view_count": null,
            "_view_module_version": "1.2.0",
            "bar_color": null,
            "_model_module": "@jupyter-widgets/controls"
          }
        },
        "46a98fbab56a4b728db97ba209a4ac69": {
          "model_module": "@jupyter-widgets/base",
          "model_name": "LayoutModel",
          "model_module_version": "1.2.0",
          "state": {
            "_view_name": "LayoutView",
            "grid_template_rows": null,
            "right": null,
            "justify_content": null,
            "_view_module": "@jupyter-widgets/base",
            "overflow": null,
            "_model_module_version": "1.2.0",
            "_view_count": null,
            "flex_flow": null,
            "width": null,
            "min_width": null,
            "border": null,
            "align_items": null,
            "bottom": null,
            "_model_module": "@jupyter-widgets/base",
            "top": null,
            "grid_column": null,
            "overflow_y": null,
            "overflow_x": null,
            "grid_auto_flow": null,
            "grid_area": null,
            "grid_template_columns": null,
            "flex": null,
            "_model_name": "LayoutModel",
            "justify_items": null,
            "grid_row": null,
            "max_height": null,
            "align_content": null,
            "visibility": null,
            "align_self": null,
            "height": null,
            "min_height": null,
            "padding": null,
            "grid_auto_rows": null,
            "grid_gap": null,
            "max_width": null,
            "order": null,
            "_view_module_version": "1.2.0",
            "grid_template_areas": null,
            "object_position": null,
            "object_fit": null,
            "grid_auto_columns": null,
            "margin": null,
            "display": null,
            "left": null
          }
        },
        "a5195c36498c42e2b12494eca5fca4c7": {
          "model_module": "@jupyter-widgets/controls",
          "model_name": "DescriptionStyleModel",
          "model_module_version": "1.5.0",
          "state": {
            "_view_name": "StyleView",
            "_model_name": "DescriptionStyleModel",
            "description_width": "",
            "_view_module": "@jupyter-widgets/base",
            "_model_module_version": "1.5.0",
            "_view_count": null,
            "_view_module_version": "1.2.0",
            "_model_module": "@jupyter-widgets/controls"
          }
        },
        "78deadac2c4d484aa445117cf07dcedf": {
          "model_module": "@jupyter-widgets/base",
          "model_name": "LayoutModel",
          "model_module_version": "1.2.0",
          "state": {
            "_view_name": "LayoutView",
            "grid_template_rows": null,
            "right": null,
            "justify_content": null,
            "_view_module": "@jupyter-widgets/base",
            "overflow": null,
            "_model_module_version": "1.2.0",
            "_view_count": null,
            "flex_flow": null,
            "width": null,
            "min_width": null,
            "border": null,
            "align_items": null,
            "bottom": null,
            "_model_module": "@jupyter-widgets/base",
            "top": null,
            "grid_column": null,
            "overflow_y": null,
            "overflow_x": null,
            "grid_auto_flow": null,
            "grid_area": null,
            "grid_template_columns": null,
            "flex": null,
            "_model_name": "LayoutModel",
            "justify_items": null,
            "grid_row": null,
            "max_height": null,
            "align_content": null,
            "visibility": null,
            "align_self": null,
            "height": null,
            "min_height": null,
            "padding": null,
            "grid_auto_rows": null,
            "grid_gap": null,
            "max_width": null,
            "order": null,
            "_view_module_version": "1.2.0",
            "grid_template_areas": null,
            "object_position": null,
            "object_fit": null,
            "grid_auto_columns": null,
            "margin": null,
            "display": null,
            "left": null
          }
        }
      }
    }
  },
  "cells": [
    {
      "cell_type": "markdown",
      "metadata": {
        "id": "view-in-github",
        "colab_type": "text"
      },
      "source": [
        "<a href=\"https://colab.research.google.com/github/sultanbst123/work_hours_prediction-competition-/blob/main/Work_hours_prediction(modelling).ipynb\" target=\"_parent\"><img src=\"https://colab.research.google.com/assets/colab-badge.svg\" alt=\"Open In Colab\"/></a>"
      ]
    },
    {
      "cell_type": "code",
      "metadata": {
        "colab": {
          "base_uri": "https://localhost:8080/"
        },
        "id": "MlBzIXFAk68_",
        "outputId": "085e85cb-4d1f-43ef-e9a8-57e57ff264f2"
      },
      "source": [
        "!pip install catboost"
      ],
      "execution_count": null,
      "outputs": [
        {
          "output_type": "stream",
          "name": "stdout",
          "text": [
            "Requirement already satisfied: catboost in /usr/local/lib/python3.7/dist-packages (0.26.1)\n",
            "Requirement already satisfied: graphviz in /usr/local/lib/python3.7/dist-packages (from catboost) (0.10.1)\n",
            "Requirement already satisfied: plotly in /usr/local/lib/python3.7/dist-packages (from catboost) (4.4.1)\n",
            "Requirement already satisfied: six in /usr/local/lib/python3.7/dist-packages (from catboost) (1.15.0)\n",
            "Requirement already satisfied: numpy>=1.16.0 in /usr/local/lib/python3.7/dist-packages (from catboost) (1.19.5)\n",
            "Requirement already satisfied: scipy in /usr/local/lib/python3.7/dist-packages (from catboost) (1.4.1)\n",
            "Requirement already satisfied: matplotlib in /usr/local/lib/python3.7/dist-packages (from catboost) (3.2.2)\n",
            "Requirement already satisfied: pandas>=0.24.0 in /usr/local/lib/python3.7/dist-packages (from catboost) (1.1.5)\n",
            "Requirement already satisfied: python-dateutil>=2.7.3 in /usr/local/lib/python3.7/dist-packages (from pandas>=0.24.0->catboost) (2.8.2)\n",
            "Requirement already satisfied: pytz>=2017.2 in /usr/local/lib/python3.7/dist-packages (from pandas>=0.24.0->catboost) (2018.9)\n",
            "Requirement already satisfied: cycler>=0.10 in /usr/local/lib/python3.7/dist-packages (from matplotlib->catboost) (0.10.0)\n",
            "Requirement already satisfied: pyparsing!=2.0.4,!=2.1.2,!=2.1.6,>=2.0.1 in /usr/local/lib/python3.7/dist-packages (from matplotlib->catboost) (2.4.7)\n",
            "Requirement already satisfied: kiwisolver>=1.0.1 in /usr/local/lib/python3.7/dist-packages (from matplotlib->catboost) (1.3.2)\n",
            "Requirement already satisfied: retrying>=1.3.3 in /usr/local/lib/python3.7/dist-packages (from plotly->catboost) (1.3.3)\n"
          ]
        }
      ]
    },
    {
      "cell_type": "code",
      "metadata": {
        "colab": {
          "base_uri": "https://localhost:8080/"
        },
        "id": "woYCBMItk98K",
        "outputId": "cb1259be-5c44-4764-8b8f-a28baa379f92"
      },
      "source": [
        "!pip install optuna"
      ],
      "execution_count": null,
      "outputs": [
        {
          "output_type": "stream",
          "name": "stdout",
          "text": [
            "Requirement already satisfied: optuna in /usr/local/lib/python3.7/dist-packages (2.9.1)\n",
            "Requirement already satisfied: tqdm in /usr/local/lib/python3.7/dist-packages (from optuna) (4.62.3)\n",
            "Requirement already satisfied: sqlalchemy>=1.1.0 in /usr/local/lib/python3.7/dist-packages (from optuna) (1.4.25)\n",
            "Requirement already satisfied: packaging>=20.0 in /usr/local/lib/python3.7/dist-packages (from optuna) (21.0)\n",
            "Requirement already satisfied: PyYAML in /usr/local/lib/python3.7/dist-packages (from optuna) (3.13)\n",
            "Requirement already satisfied: numpy in /usr/local/lib/python3.7/dist-packages (from optuna) (1.19.5)\n",
            "Requirement already satisfied: cliff in /usr/local/lib/python3.7/dist-packages (from optuna) (3.9.0)\n",
            "Requirement already satisfied: alembic in /usr/local/lib/python3.7/dist-packages (from optuna) (1.7.3)\n",
            "Requirement already satisfied: cmaes>=0.8.2 in /usr/local/lib/python3.7/dist-packages (from optuna) (0.8.2)\n",
            "Requirement already satisfied: colorlog in /usr/local/lib/python3.7/dist-packages (from optuna) (6.4.1)\n",
            "Requirement already satisfied: scipy!=1.4.0 in /usr/local/lib/python3.7/dist-packages (from optuna) (1.4.1)\n",
            "Requirement already satisfied: pyparsing>=2.0.2 in /usr/local/lib/python3.7/dist-packages (from packaging>=20.0->optuna) (2.4.7)\n",
            "Requirement already satisfied: importlib-metadata in /usr/local/lib/python3.7/dist-packages (from sqlalchemy>=1.1.0->optuna) (4.8.1)\n",
            "Requirement already satisfied: greenlet!=0.4.17 in /usr/local/lib/python3.7/dist-packages (from sqlalchemy>=1.1.0->optuna) (1.1.1)\n",
            "Requirement already satisfied: Mako in /usr/local/lib/python3.7/dist-packages (from alembic->optuna) (1.1.5)\n",
            "Requirement already satisfied: importlib-resources in /usr/local/lib/python3.7/dist-packages (from alembic->optuna) (5.2.2)\n",
            "Requirement already satisfied: PrettyTable>=0.7.2 in /usr/local/lib/python3.7/dist-packages (from cliff->optuna) (2.2.0)\n",
            "Requirement already satisfied: autopage>=0.4.0 in /usr/local/lib/python3.7/dist-packages (from cliff->optuna) (0.4.0)\n",
            "Requirement already satisfied: pbr!=2.1.0,>=2.0.0 in /usr/local/lib/python3.7/dist-packages (from cliff->optuna) (5.6.0)\n",
            "Requirement already satisfied: cmd2>=1.0.0 in /usr/local/lib/python3.7/dist-packages (from cliff->optuna) (2.2.0)\n",
            "Requirement already satisfied: stevedore>=2.0.1 in /usr/local/lib/python3.7/dist-packages (from cliff->optuna) (3.4.0)\n",
            "Requirement already satisfied: wcwidth>=0.1.7 in /usr/local/lib/python3.7/dist-packages (from cmd2>=1.0.0->cliff->optuna) (0.2.5)\n",
            "Requirement already satisfied: pyperclip>=1.6 in /usr/local/lib/python3.7/dist-packages (from cmd2>=1.0.0->cliff->optuna) (1.8.2)\n",
            "Requirement already satisfied: attrs>=16.3.0 in /usr/local/lib/python3.7/dist-packages (from cmd2>=1.0.0->cliff->optuna) (21.2.0)\n",
            "Requirement already satisfied: typing-extensions in /usr/local/lib/python3.7/dist-packages (from cmd2>=1.0.0->cliff->optuna) (3.7.4.3)\n",
            "Requirement already satisfied: colorama>=0.3.7 in /usr/local/lib/python3.7/dist-packages (from cmd2>=1.0.0->cliff->optuna) (0.4.4)\n",
            "Requirement already satisfied: zipp>=0.5 in /usr/local/lib/python3.7/dist-packages (from importlib-metadata->sqlalchemy>=1.1.0->optuna) (3.5.0)\n",
            "Requirement already satisfied: MarkupSafe>=0.9.2 in /usr/local/lib/python3.7/dist-packages (from Mako->alembic->optuna) (2.0.1)\n"
          ]
        }
      ]
    },
    {
      "cell_type": "code",
      "metadata": {
        "colab": {
          "base_uri": "https://localhost:8080/"
        },
        "id": "Q_d6RiXvlFNi",
        "outputId": "778af62f-ee9f-4cf3-9d23-620293eea27c"
      },
      "source": [
        "!pip install borutashap"
      ],
      "execution_count": null,
      "outputs": [
        {
          "output_type": "stream",
          "name": "stdout",
          "text": [
            "Requirement already satisfied: borutashap in /usr/local/lib/python3.7/dist-packages (1.0.16)\n",
            "Requirement already satisfied: seaborn in /usr/local/lib/python3.7/dist-packages (from borutashap) (0.11.2)\n",
            "Requirement already satisfied: tqdm in /usr/local/lib/python3.7/dist-packages (from borutashap) (4.62.3)\n",
            "Requirement already satisfied: scikit-learn in /usr/local/lib/python3.7/dist-packages (from borutashap) (1.0)\n",
            "Requirement already satisfied: pandas in /usr/local/lib/python3.7/dist-packages (from borutashap) (1.1.5)\n",
            "Requirement already satisfied: matplotlib in /usr/local/lib/python3.7/dist-packages (from borutashap) (3.2.2)\n",
            "Requirement already satisfied: numpy in /usr/local/lib/python3.7/dist-packages (from borutashap) (1.19.5)\n",
            "Requirement already satisfied: statsmodels in /usr/local/lib/python3.7/dist-packages (from borutashap) (0.10.2)\n",
            "Requirement already satisfied: scipy in /usr/local/lib/python3.7/dist-packages (from borutashap) (1.4.1)\n",
            "Requirement already satisfied: shap>=0.34.0 in /usr/local/lib/python3.7/dist-packages (from borutashap) (0.39.0)\n",
            "Requirement already satisfied: numba in /usr/local/lib/python3.7/dist-packages (from shap>=0.34.0->borutashap) (0.51.2)\n",
            "Requirement already satisfied: slicer==0.0.7 in /usr/local/lib/python3.7/dist-packages (from shap>=0.34.0->borutashap) (0.0.7)\n",
            "Requirement already satisfied: cloudpickle in /usr/local/lib/python3.7/dist-packages (from shap>=0.34.0->borutashap) (1.3.0)\n",
            "Requirement already satisfied: pyparsing!=2.0.4,!=2.1.2,!=2.1.6,>=2.0.1 in /usr/local/lib/python3.7/dist-packages (from matplotlib->borutashap) (2.4.7)\n",
            "Requirement already satisfied: cycler>=0.10 in /usr/local/lib/python3.7/dist-packages (from matplotlib->borutashap) (0.10.0)\n",
            "Requirement already satisfied: kiwisolver>=1.0.1 in /usr/local/lib/python3.7/dist-packages (from matplotlib->borutashap) (1.3.2)\n",
            "Requirement already satisfied: python-dateutil>=2.1 in /usr/local/lib/python3.7/dist-packages (from matplotlib->borutashap) (2.8.2)\n",
            "Requirement already satisfied: six in /usr/local/lib/python3.7/dist-packages (from cycler>=0.10->matplotlib->borutashap) (1.15.0)\n",
            "Requirement already satisfied: setuptools in /usr/local/lib/python3.7/dist-packages (from numba->shap>=0.34.0->borutashap) (57.4.0)\n",
            "Requirement already satisfied: llvmlite<0.35,>=0.34.0.dev0 in /usr/local/lib/python3.7/dist-packages (from numba->shap>=0.34.0->borutashap) (0.34.0)\n",
            "Requirement already satisfied: pytz>=2017.2 in /usr/local/lib/python3.7/dist-packages (from pandas->borutashap) (2018.9)\n",
            "Requirement already satisfied: threadpoolctl>=2.0.0 in /usr/local/lib/python3.7/dist-packages (from scikit-learn->borutashap) (2.2.0)\n",
            "Requirement already satisfied: joblib>=0.11 in /usr/local/lib/python3.7/dist-packages (from scikit-learn->borutashap) (1.0.1)\n",
            "Requirement already satisfied: patsy>=0.4.0 in /usr/local/lib/python3.7/dist-packages (from statsmodels->borutashap) (0.5.1)\n"
          ]
        }
      ]
    },
    {
      "cell_type": "code",
      "metadata": {
        "id": "FCRfOJMckgpO",
        "colab": {
          "base_uri": "https://localhost:8080/"
        },
        "outputId": "5968906f-ece2-42ad-aaa7-5c0797dc6a7c"
      },
      "source": [
        "!pip install --upgrade scikit-learn"
      ],
      "execution_count": null,
      "outputs": [
        {
          "output_type": "stream",
          "name": "stdout",
          "text": [
            "Requirement already satisfied: scikit-learn in /usr/local/lib/python3.7/dist-packages (1.0)\n",
            "Requirement already satisfied: scipy>=1.1.0 in /usr/local/lib/python3.7/dist-packages (from scikit-learn) (1.4.1)\n",
            "Requirement already satisfied: threadpoolctl>=2.0.0 in /usr/local/lib/python3.7/dist-packages (from scikit-learn) (2.2.0)\n",
            "Requirement already satisfied: numpy>=1.14.6 in /usr/local/lib/python3.7/dist-packages (from scikit-learn) (1.19.5)\n",
            "Requirement already satisfied: joblib>=0.11 in /usr/local/lib/python3.7/dist-packages (from scikit-learn) (1.0.1)\n"
          ]
        }
      ]
    },
    {
      "cell_type": "code",
      "metadata": {
        "id": "tycKAqzikT04"
      },
      "source": [
        "import pandas as pd\n",
        "import numpy as np\n",
        "import matplotlib.pyplot as plt\n",
        "import seaborn as sns\n",
        "import optuna\n",
        "from BorutaShap import BorutaShap\n",
        " \n",
        "# classification\n",
        "import xgboost, lightgbm, catboost\n",
        "from xgboost import XGBClassifier\n",
        "from catboost import CatBoostClassifier\n",
        "from lightgbm import LGBMClassifier\n",
        "from sklearn.tree import DecisionTreeClassifier, ExtraTreeClassifier\n",
        "from sklearn.ensemble import (RandomForestClassifier, StackingClassifier, GradientBoostingClassifier,\n",
        "                             AdaBoostClassifier, HistGradientBoostingClassifier) \n",
        "from sklearn.svm import SVC\n",
        "from sklearn.linear_model import LogisticRegression\n",
        "from sklearn.neighbors import KNeighborsClassifier\n",
        " \n",
        "# regression\n",
        "from xgboost import XGBRegressor\n",
        "from catboost import CatBoostRegressor\n",
        "from lightgbm import LGBMRegressor\n",
        "from sklearn.tree import DecisionTreeRegressor, ExtraTreeRegressor\n",
        "from sklearn.ensemble import (RandomForestRegressor, GradientBoostingRegressor,\n",
        "                             AdaBoostRegressor, HistGradientBoostingRegressor) \n",
        "from sklearn.svm import SVR\n",
        "from sklearn.linear_model import LinearRegression, Ridge, Lasso, ElasticNet\n",
        "from sklearn.neighbors import KNeighborsRegressor\n",
        "\n",
        "#preprocessing\n",
        "from sklearn.model_selection import train_test_split, KFold, cross_val_score, StratifiedKFold\n",
        "from sklearn.metrics import (accuracy_score, classification_report, confusion_matrix, \n",
        "                            log_loss, roc_auc_score, plot_roc_curve) \n",
        "from sklearn.metrics import mean_absolute_error, mean_squared_error, mean_squared_log_error\n",
        "from sklearn.preprocessing import LabelEncoder, StandardScaler, MinMaxScaler\n",
        " \n",
        "import warnings\n",
        "warnings.filterwarnings(\"ignore\")\n",
        " \n",
        "%matplotlib inline"
      ],
      "execution_count": null,
      "outputs": []
    },
    {
      "cell_type": "code",
      "metadata": {
        "id": "pKlmL6EYnD06"
      },
      "source": [
        "train = pd.read_csv(\"/content/drive/MyDrive/Work_hours_prediction/train_work-hours-prediction(clean).csv\")\n",
        "test = pd.read_csv(\"/content/drive/MyDrive/Work_hours_prediction/test_work-hours-prediction(clean).csv\")"
      ],
      "execution_count": null,
      "outputs": []
    },
    {
      "cell_type": "code",
      "metadata": {
        "colab": {
          "base_uri": "https://localhost:8080/",
          "height": 360
        },
        "id": "wMiqcyngnQD5",
        "outputId": "bb1b441f-2200-43bb-892b-2d76ab3096cb"
      },
      "source": [
        "train.head()"
      ],
      "execution_count": null,
      "outputs": [
        {
          "output_type": "execute_result",
          "data": {
            "text/html": [
              "<div>\n",
              "<style scoped>\n",
              "    .dataframe tbody tr th:only-of-type {\n",
              "        vertical-align: middle;\n",
              "    }\n",
              "\n",
              "    .dataframe tbody tr th {\n",
              "        vertical-align: top;\n",
              "    }\n",
              "\n",
              "    .dataframe thead th {\n",
              "        text-align: right;\n",
              "    }\n",
              "</style>\n",
              "<table border=\"1\" class=\"dataframe\">\n",
              "  <thead>\n",
              "    <tr style=\"text-align: right;\">\n",
              "      <th></th>\n",
              "      <th>workclass</th>\n",
              "      <th>education</th>\n",
              "      <th>marital-status</th>\n",
              "      <th>occupation</th>\n",
              "      <th>relationship</th>\n",
              "      <th>race</th>\n",
              "      <th>sex</th>\n",
              "      <th>capital-gain</th>\n",
              "      <th>capital-loss</th>\n",
              "      <th>hours-per-week</th>\n",
              "      <th>native-country</th>\n",
              "      <th>income</th>\n",
              "      <th>age_bins</th>\n",
              "    </tr>\n",
              "  </thead>\n",
              "  <tbody>\n",
              "    <tr>\n",
              "      <th>0</th>\n",
              "      <td>Private</td>\n",
              "      <td>HS-grad</td>\n",
              "      <td>Never-married</td>\n",
              "      <td>service</td>\n",
              "      <td>Unmarried</td>\n",
              "      <td>White</td>\n",
              "      <td>Male</td>\n",
              "      <td>min</td>\n",
              "      <td>none</td>\n",
              "      <td>44</td>\n",
              "      <td>United-States</td>\n",
              "      <td>&lt;=50K</td>\n",
              "      <td>50-75</td>\n",
              "    </tr>\n",
              "    <tr>\n",
              "      <th>1</th>\n",
              "      <td>self_emp</td>\n",
              "      <td>Bachelors</td>\n",
              "      <td>married</td>\n",
              "      <td>Sales</td>\n",
              "      <td>Husband</td>\n",
              "      <td>White</td>\n",
              "      <td>Male</td>\n",
              "      <td>max</td>\n",
              "      <td>none</td>\n",
              "      <td>44</td>\n",
              "      <td>United-States</td>\n",
              "      <td>&gt;50K</td>\n",
              "      <td>75-100</td>\n",
              "    </tr>\n",
              "    <tr>\n",
              "      <th>2</th>\n",
              "      <td>Private</td>\n",
              "      <td>Bachelors</td>\n",
              "      <td>married</td>\n",
              "      <td>blue-colar</td>\n",
              "      <td>Husband</td>\n",
              "      <td>Amer-Indian-Eskimo</td>\n",
              "      <td>Male</td>\n",
              "      <td>max</td>\n",
              "      <td>none</td>\n",
              "      <td>57</td>\n",
              "      <td>United-States</td>\n",
              "      <td>&gt;50K</td>\n",
              "      <td>25-50</td>\n",
              "    </tr>\n",
              "    <tr>\n",
              "      <th>3</th>\n",
              "      <td>to_gov</td>\n",
              "      <td>Bachelors</td>\n",
              "      <td>married</td>\n",
              "      <td>Prof-specialty</td>\n",
              "      <td>Husband</td>\n",
              "      <td>White</td>\n",
              "      <td>Male</td>\n",
              "      <td>max</td>\n",
              "      <td>none</td>\n",
              "      <td>44</td>\n",
              "      <td>United-States</td>\n",
              "      <td>&gt;50K</td>\n",
              "      <td>75-100</td>\n",
              "    </tr>\n",
              "    <tr>\n",
              "      <th>4</th>\n",
              "      <td>self_emp</td>\n",
              "      <td>Masters</td>\n",
              "      <td>not-married</td>\n",
              "      <td>Exec-managerial</td>\n",
              "      <td>Not-in-family</td>\n",
              "      <td>White</td>\n",
              "      <td>Male</td>\n",
              "      <td>max</td>\n",
              "      <td>none</td>\n",
              "      <td>58</td>\n",
              "      <td>United-States</td>\n",
              "      <td>&lt;=50K</td>\n",
              "      <td>25-50</td>\n",
              "    </tr>\n",
              "  </tbody>\n",
              "</table>\n",
              "</div>"
            ],
            "text/plain": [
              "  workclass  education marital-status  ... native-country income age_bins\n",
              "0   Private    HS-grad  Never-married  ...  United-States  <=50K    50-75\n",
              "1  self_emp  Bachelors        married  ...  United-States   >50K   75-100\n",
              "2   Private  Bachelors        married  ...  United-States   >50K    25-50\n",
              "3    to_gov  Bachelors        married  ...  United-States   >50K   75-100\n",
              "4  self_emp    Masters    not-married  ...  United-States  <=50K    25-50\n",
              "\n",
              "[5 rows x 13 columns]"
            ]
          },
          "metadata": {},
          "execution_count": 9
        }
      ]
    },
    {
      "cell_type": "code",
      "metadata": {
        "colab": {
          "base_uri": "https://localhost:8080/"
        },
        "id": "dXmFavCknU3C",
        "outputId": "65bf3ddc-7434-4b14-9c3a-441ae7284ebd"
      },
      "source": [
        "train.info()"
      ],
      "execution_count": null,
      "outputs": [
        {
          "output_type": "stream",
          "name": "stdout",
          "text": [
            "<class 'pandas.core.frame.DataFrame'>\n",
            "RangeIndex: 18944 entries, 0 to 18943\n",
            "Data columns (total 13 columns):\n",
            " #   Column          Non-Null Count  Dtype \n",
            "---  ------          --------------  ----- \n",
            " 0   workclass       18944 non-null  object\n",
            " 1   education       18944 non-null  object\n",
            " 2   marital-status  18944 non-null  object\n",
            " 3   occupation      18944 non-null  object\n",
            " 4   relationship    18944 non-null  object\n",
            " 5   race            18944 non-null  object\n",
            " 6   sex             18944 non-null  object\n",
            " 7   capital-gain    18944 non-null  object\n",
            " 8   capital-loss    18944 non-null  object\n",
            " 9   hours-per-week  18944 non-null  int64 \n",
            " 10  native-country  18944 non-null  object\n",
            " 11  income          18944 non-null  object\n",
            " 12  age_bins        18944 non-null  object\n",
            "dtypes: int64(1), object(12)\n",
            "memory usage: 1.9+ MB\n"
          ]
        }
      ]
    },
    {
      "cell_type": "code",
      "metadata": {
        "id": "dbmXjME4njih"
      },
      "source": [
        "x = train.drop(\"hours-per-week\", axis=1) \n",
        "y = train[\"hours-per-week\"]"
      ],
      "execution_count": null,
      "outputs": []
    },
    {
      "cell_type": "code",
      "metadata": {
        "id": "peYYz6Jvn4l-"
      },
      "source": [
        "x = x.astype(\"category\")"
      ],
      "execution_count": null,
      "outputs": []
    },
    {
      "cell_type": "code",
      "metadata": {
        "id": "jYaUuxy5nuZ3"
      },
      "source": [
        "x_train, x_val, y_train, y_val = train_test_split(x, y,test_size=0.2, random_state=42)"
      ],
      "execution_count": null,
      "outputs": []
    },
    {
      "cell_type": "markdown",
      "metadata": {
        "id": "qekBFYOHTc6N"
      },
      "source": [
        "#Feature selection"
      ]
    },
    {
      "cell_type": "code",
      "metadata": {
        "id": "RRUCuT5CoXru"
      },
      "source": [
        "lg = LGBMRegressor(learning_rate = 0.01,random_state=10)"
      ],
      "execution_count": null,
      "outputs": []
    },
    {
      "cell_type": "code",
      "metadata": {
        "id": "Pqkci-EzrJid"
      },
      "source": [
        "#feature selection\n",
        "Feature_Selector = BorutaShap(model=lg,\n",
        "                                  importance_measure='shap', \n",
        "                                  classification=True)#set True jika classification"
      ],
      "execution_count": null,
      "outputs": []
    },
    {
      "cell_type": "code",
      "metadata": {
        "colab": {
          "base_uri": "https://localhost:8080/",
          "height": 176,
          "referenced_widgets": [
            "0850d3f6977a44098690270b33c31a68",
            "f40d506bf4754fed89f59080949813e2",
            "35b05add212142279450ab7e6859001f",
            "51c4e48aa9644fea8f52377bbd98dc7e",
            "ee507d22b5a04b789bc2e78cba5e4a56",
            "d843a4cd081c4ec8a2da37231284250e",
            "c536f8c56833471da5219e7a2b094e94",
            "75994a3593794265a2aeca1656e6c2a7",
            "46a98fbab56a4b728db97ba209a4ac69",
            "a5195c36498c42e2b12494eca5fca4c7",
            "78deadac2c4d484aa445117cf07dcedf"
          ]
        },
        "id": "rDXpDUMiTt0z",
        "outputId": "4065580b-dafd-464d-edcf-309a291d04bb"
      },
      "source": [
        "Feature_Selector.fit(X=x_train, y=y_train, n_trials=50, random_state=0)"
      ],
      "execution_count": null,
      "outputs": [
        {
          "output_type": "display_data",
          "data": {
            "application/vnd.jupyter.widget-view+json": {
              "model_id": "0850d3f6977a44098690270b33c31a68",
              "version_minor": 0,
              "version_major": 2
            },
            "text/plain": [
              "  0%|          | 0/50 [00:00<?, ?it/s]"
            ]
          },
          "metadata": {}
        },
        {
          "output_type": "stream",
          "name": "stdout",
          "text": [
            "9 attributes confirmed important: ['sex', 'race', 'age_bins', 'education', 'relationship', 'capital-gain', 'income', 'workclass', 'occupation']\n",
            "3 attributes confirmed unimportant: ['capital-loss', 'marital-status', 'native-country']\n",
            "0 tentative attributes remains: []\n"
          ]
        }
      ]
    },
    {
      "cell_type": "code",
      "metadata": {
        "colab": {
          "base_uri": "https://localhost:8080/",
          "height": 166
        },
        "id": "Dijlf6k5S2lo",
        "outputId": "832e0639-1407-484d-95f4-67e0d49829d7"
      },
      "source": [
        "Feature_Selector.plot(which_features='all', figsize=(24,12))"
      ],
      "execution_count": null,
      "outputs": [
        {
          "output_type": "display_data",
          "data": {
            "image/png": "[encoded data removed]",
            "text/plain": [
              "<Figure size 1728x864 with 1 Axes>"
            ]
          },
          "metadata": {
            "needs_background": "light"
          }
        }
      ]
    },
    {
      "cell_type": "code",
      "metadata": {
        "colab": {
          "base_uri": "https://localhost:8080/"
        },
        "id": "gGSxPZD7Wbla",
        "outputId": "23be80ab-3427-4431-abfc-0d34fc07cc9e"
      },
      "source": [
        "col_penting = Feature_Selector.Subset()\n",
        "col_penting.columns"
      ],
      "execution_count": null,
      "outputs": [
        {
          "output_type": "execute_result",
          "data": {
            "text/plain": [
              "Index(['sex', 'race', 'age_bins', 'education', 'relationship', 'capital-gain',\n",
              "       'income', 'workclass', 'occupation'],\n",
              "      dtype='object')"
            ]
          },
          "metadata": {},
          "execution_count": 22
        }
      ]
    },
    {
      "cell_type": "code",
      "metadata": {
        "colab": {
          "base_uri": "https://localhost:8080/",
          "height": 541
        },
        "id": "w72TB0KtYW76",
        "outputId": "44fc95f9-0a68-4c39-c8d6-9bb93647006f"
      },
      "source": [
        "#feature important\n",
        "col_penting"
      ],
      "execution_count": null,
      "outputs": [
        {
          "output_type": "execute_result",
          "data": {
            "text/html": [
              "<div>\n",
              "<style scoped>\n",
              "    .dataframe tbody tr th:only-of-type {\n",
              "        vertical-align: middle;\n",
              "    }\n",
              "\n",
              "    .dataframe tbody tr th {\n",
              "        vertical-align: top;\n",
              "    }\n",
              "\n",
              "    .dataframe thead th {\n",
              "        text-align: right;\n",
              "    }\n",
              "</style>\n",
              "<table border=\"1\" class=\"dataframe\">\n",
              "  <thead>\n",
              "    <tr style=\"text-align: right;\">\n",
              "      <th></th>\n",
              "      <th>sex</th>\n",
              "      <th>race</th>\n",
              "      <th>age_bins</th>\n",
              "      <th>education</th>\n",
              "      <th>relationship</th>\n",
              "      <th>capital-gain</th>\n",
              "      <th>income</th>\n",
              "      <th>workclass</th>\n",
              "      <th>occupation</th>\n",
              "    </tr>\n",
              "  </thead>\n",
              "  <tbody>\n",
              "    <tr>\n",
              "      <th>16887</th>\n",
              "      <td>Female</td>\n",
              "      <td>Asian-Pac-Islander</td>\n",
              "      <td>25-50</td>\n",
              "      <td>1st-12th</td>\n",
              "      <td>Wife</td>\n",
              "      <td>max</td>\n",
              "      <td>&lt;=50K</td>\n",
              "      <td>Private</td>\n",
              "      <td>blue-colar</td>\n",
              "    </tr>\n",
              "    <tr>\n",
              "      <th>17783</th>\n",
              "      <td>Male</td>\n",
              "      <td>White</td>\n",
              "      <td>50-75</td>\n",
              "      <td>HS-grad</td>\n",
              "      <td>Husband</td>\n",
              "      <td>max</td>\n",
              "      <td>&lt;=50K</td>\n",
              "      <td>self_emp</td>\n",
              "      <td>blue-colar</td>\n",
              "    </tr>\n",
              "    <tr>\n",
              "      <th>3833</th>\n",
              "      <td>Male</td>\n",
              "      <td>White</td>\n",
              "      <td>50-75</td>\n",
              "      <td>Some-college</td>\n",
              "      <td>Husband</td>\n",
              "      <td>max</td>\n",
              "      <td>&lt;=50K</td>\n",
              "      <td>Private</td>\n",
              "      <td>Adm-clerical</td>\n",
              "    </tr>\n",
              "    <tr>\n",
              "      <th>5631</th>\n",
              "      <td>Male</td>\n",
              "      <td>White</td>\n",
              "      <td>25-50</td>\n",
              "      <td>HS-grad</td>\n",
              "      <td>Husband</td>\n",
              "      <td>max</td>\n",
              "      <td>&gt;50K</td>\n",
              "      <td>Private</td>\n",
              "      <td>blue-colar</td>\n",
              "    </tr>\n",
              "    <tr>\n",
              "      <th>10368</th>\n",
              "      <td>Male</td>\n",
              "      <td>White</td>\n",
              "      <td>50-75</td>\n",
              "      <td>1st-12th</td>\n",
              "      <td>Husband</td>\n",
              "      <td>none</td>\n",
              "      <td>&lt;=50K</td>\n",
              "      <td>Without-pay</td>\n",
              "      <td>blue-colar</td>\n",
              "    </tr>\n",
              "    <tr>\n",
              "      <th>...</th>\n",
              "      <td>...</td>\n",
              "      <td>...</td>\n",
              "      <td>...</td>\n",
              "      <td>...</td>\n",
              "      <td>...</td>\n",
              "      <td>...</td>\n",
              "      <td>...</td>\n",
              "      <td>...</td>\n",
              "      <td>...</td>\n",
              "    </tr>\n",
              "    <tr>\n",
              "      <th>11284</th>\n",
              "      <td>Male</td>\n",
              "      <td>Black</td>\n",
              "      <td>25-50</td>\n",
              "      <td>HS-grad</td>\n",
              "      <td>Own-child</td>\n",
              "      <td>max</td>\n",
              "      <td>&lt;=50K</td>\n",
              "      <td>Without-pay</td>\n",
              "      <td>blue-colar</td>\n",
              "    </tr>\n",
              "    <tr>\n",
              "      <th>11964</th>\n",
              "      <td>Female</td>\n",
              "      <td>Asian-Pac-Islander</td>\n",
              "      <td>50-75</td>\n",
              "      <td>1st-12th</td>\n",
              "      <td>Wife</td>\n",
              "      <td>min</td>\n",
              "      <td>&gt;50K</td>\n",
              "      <td>Private</td>\n",
              "      <td>Sales</td>\n",
              "    </tr>\n",
              "    <tr>\n",
              "      <th>5390</th>\n",
              "      <td>Male</td>\n",
              "      <td>White</td>\n",
              "      <td>0-25</td>\n",
              "      <td>1st-12th</td>\n",
              "      <td>Own-child</td>\n",
              "      <td>max</td>\n",
              "      <td>&lt;=50K</td>\n",
              "      <td>Private</td>\n",
              "      <td>Sales</td>\n",
              "    </tr>\n",
              "    <tr>\n",
              "      <th>860</th>\n",
              "      <td>Male</td>\n",
              "      <td>White</td>\n",
              "      <td>25-50</td>\n",
              "      <td>HS-grad</td>\n",
              "      <td>Husband</td>\n",
              "      <td>min</td>\n",
              "      <td>&gt;50K</td>\n",
              "      <td>Private</td>\n",
              "      <td>blue-colar</td>\n",
              "    </tr>\n",
              "    <tr>\n",
              "      <th>15795</th>\n",
              "      <td>Female</td>\n",
              "      <td>Other</td>\n",
              "      <td>25-50</td>\n",
              "      <td>1st-12th</td>\n",
              "      <td>Not-in-family</td>\n",
              "      <td>max</td>\n",
              "      <td>&lt;=50K</td>\n",
              "      <td>Private</td>\n",
              "      <td>blue-colar</td>\n",
              "    </tr>\n",
              "  </tbody>\n",
              "</table>\n",
              "<p>14208 rows × 9 columns</p>\n",
              "</div>"
            ],
            "text/plain": [
              "          sex                race age_bins  ... income    workclass    occupation\n",
              "16887  Female  Asian-Pac-Islander    25-50  ...  <=50K      Private    blue-colar\n",
              "17783    Male               White    50-75  ...  <=50K     self_emp    blue-colar\n",
              "3833     Male               White    50-75  ...  <=50K      Private  Adm-clerical\n",
              "5631     Male               White    25-50  ...   >50K      Private    blue-colar\n",
              "10368    Male               White    50-75  ...  <=50K  Without-pay    blue-colar\n",
              "...       ...                 ...      ...  ...    ...          ...           ...\n",
              "11284    Male               Black    25-50  ...  <=50K  Without-pay    blue-colar\n",
              "11964  Female  Asian-Pac-Islander    50-75  ...   >50K      Private         Sales\n",
              "5390     Male               White     0-25  ...  <=50K      Private         Sales\n",
              "860      Male               White    25-50  ...   >50K      Private    blue-colar\n",
              "15795  Female               Other    25-50  ...  <=50K      Private    blue-colar\n",
              "\n",
              "[14208 rows x 9 columns]"
            ]
          },
          "metadata": {},
          "execution_count": 23
        }
      ]
    },
    {
      "cell_type": "code",
      "metadata": {
        "id": "tss7To8nbE1s"
      },
      "source": [
        "score_train = []\n",
        "score_val = []\n",
        "loss_rmse = []"
      ],
      "execution_count": null,
      "outputs": []
    },
    {
      "cell_type": "markdown",
      "metadata": {
        "id": "-Xn4BKlIWyA5"
      },
      "source": [
        "#Model 1 \n",
        "Randomforest, Adaboost, Gradienboost, Xgboost, Decisiontree, Extratree, Histgradientboost"
      ]
    },
    {
      "cell_type": "code",
      "metadata": {
        "id": "o9t6SWmxWvlB"
      },
      "source": [
        "x_train_1 = x_train[col_penting.columns]\n",
        "x_val_1 = x_val[col_penting.columns]"
      ],
      "execution_count": null,
      "outputs": []
    },
    {
      "cell_type": "code",
      "metadata": {
        "colab": {
          "base_uri": "https://localhost:8080/",
          "height": 292
        },
        "id": "vLqAQZ9YYzpt",
        "outputId": "97b79764-93bb-448b-d517-eee99339c726"
      },
      "source": [
        "x_train_1.head()"
      ],
      "execution_count": null,
      "outputs": [
        {
          "output_type": "execute_result",
          "data": {
            "text/html": [
              "<div>\n",
              "<style scoped>\n",
              "    .dataframe tbody tr th:only-of-type {\n",
              "        vertical-align: middle;\n",
              "    }\n",
              "\n",
              "    .dataframe tbody tr th {\n",
              "        vertical-align: top;\n",
              "    }\n",
              "\n",
              "    .dataframe thead th {\n",
              "        text-align: right;\n",
              "    }\n",
              "</style>\n",
              "<table border=\"1\" class=\"dataframe\">\n",
              "  <thead>\n",
              "    <tr style=\"text-align: right;\">\n",
              "      <th></th>\n",
              "      <th>sex</th>\n",
              "      <th>race</th>\n",
              "      <th>age_bins</th>\n",
              "      <th>education</th>\n",
              "      <th>relationship</th>\n",
              "      <th>capital-gain</th>\n",
              "      <th>income</th>\n",
              "      <th>workclass</th>\n",
              "      <th>occupation</th>\n",
              "    </tr>\n",
              "  </thead>\n",
              "  <tbody>\n",
              "    <tr>\n",
              "      <th>16887</th>\n",
              "      <td>Female</td>\n",
              "      <td>Asian-Pac-Islander</td>\n",
              "      <td>25-50</td>\n",
              "      <td>1st-12th</td>\n",
              "      <td>Wife</td>\n",
              "      <td>max</td>\n",
              "      <td>&lt;=50K</td>\n",
              "      <td>Private</td>\n",
              "      <td>blue-colar</td>\n",
              "    </tr>\n",
              "    <tr>\n",
              "      <th>17783</th>\n",
              "      <td>Male</td>\n",
              "      <td>White</td>\n",
              "      <td>50-75</td>\n",
              "      <td>HS-grad</td>\n",
              "      <td>Husband</td>\n",
              "      <td>max</td>\n",
              "      <td>&lt;=50K</td>\n",
              "      <td>self_emp</td>\n",
              "      <td>blue-colar</td>\n",
              "    </tr>\n",
              "    <tr>\n",
              "      <th>3833</th>\n",
              "      <td>Male</td>\n",
              "      <td>White</td>\n",
              "      <td>50-75</td>\n",
              "      <td>Some-college</td>\n",
              "      <td>Husband</td>\n",
              "      <td>max</td>\n",
              "      <td>&lt;=50K</td>\n",
              "      <td>Private</td>\n",
              "      <td>Adm-clerical</td>\n",
              "    </tr>\n",
              "    <tr>\n",
              "      <th>5631</th>\n",
              "      <td>Male</td>\n",
              "      <td>White</td>\n",
              "      <td>25-50</td>\n",
              "      <td>HS-grad</td>\n",
              "      <td>Husband</td>\n",
              "      <td>max</td>\n",
              "      <td>&gt;50K</td>\n",
              "      <td>Private</td>\n",
              "      <td>blue-colar</td>\n",
              "    </tr>\n",
              "    <tr>\n",
              "      <th>10368</th>\n",
              "      <td>Male</td>\n",
              "      <td>White</td>\n",
              "      <td>50-75</td>\n",
              "      <td>1st-12th</td>\n",
              "      <td>Husband</td>\n",
              "      <td>none</td>\n",
              "      <td>&lt;=50K</td>\n",
              "      <td>Without-pay</td>\n",
              "      <td>blue-colar</td>\n",
              "    </tr>\n",
              "  </tbody>\n",
              "</table>\n",
              "</div>"
            ],
            "text/plain": [
              "          sex                race age_bins  ... income    workclass    occupation\n",
              "16887  Female  Asian-Pac-Islander    25-50  ...  <=50K      Private    blue-colar\n",
              "17783    Male               White    50-75  ...  <=50K     self_emp    blue-colar\n",
              "3833     Male               White    50-75  ...  <=50K      Private  Adm-clerical\n",
              "5631     Male               White    25-50  ...   >50K      Private    blue-colar\n",
              "10368    Male               White    50-75  ...  <=50K  Without-pay    blue-colar\n",
              "\n",
              "[5 rows x 9 columns]"
            ]
          },
          "metadata": {},
          "execution_count": 70
        }
      ]
    },
    {
      "cell_type": "code",
      "metadata": {
        "id": "OoxpS29mY4B-"
      },
      "source": [
        "dic = {}\n",
        "for i in x_train_1.columns: \n",
        "    dic[i] = LabelEncoder()\n",
        "    x_train_1[i] = dic[i].fit_transform(x_train_1[i])\n",
        "    x_val_1[i] = dic[i].transform(x_val_1[i])"
      ],
      "execution_count": null,
      "outputs": []
    },
    {
      "cell_type": "code",
      "metadata": {
        "colab": {
          "base_uri": "https://localhost:8080/",
          "height": 241
        },
        "id": "zWjrWn1LZd2M",
        "outputId": "b5058758-44e0-49af-d146-3d0644b20dc4"
      },
      "source": [
        "x_train_1.head()"
      ],
      "execution_count": null,
      "outputs": [
        {
          "output_type": "execute_result",
          "data": {
            "text/html": [
              "<div>\n",
              "<style scoped>\n",
              "    .dataframe tbody tr th:only-of-type {\n",
              "        vertical-align: middle;\n",
              "    }\n",
              "\n",
              "    .dataframe tbody tr th {\n",
              "        vertical-align: top;\n",
              "    }\n",
              "\n",
              "    .dataframe thead th {\n",
              "        text-align: right;\n",
              "    }\n",
              "</style>\n",
              "<table border=\"1\" class=\"dataframe\">\n",
              "  <thead>\n",
              "    <tr style=\"text-align: right;\">\n",
              "      <th></th>\n",
              "      <th>sex</th>\n",
              "      <th>race</th>\n",
              "      <th>age_bins</th>\n",
              "      <th>education</th>\n",
              "      <th>relationship</th>\n",
              "      <th>capital-gain</th>\n",
              "      <th>income</th>\n",
              "      <th>workclass</th>\n",
              "      <th>occupation</th>\n",
              "    </tr>\n",
              "  </thead>\n",
              "  <tbody>\n",
              "    <tr>\n",
              "      <th>16887</th>\n",
              "      <td>0</td>\n",
              "      <td>1</td>\n",
              "      <td>1</td>\n",
              "      <td>0</td>\n",
              "      <td>5</td>\n",
              "      <td>0</td>\n",
              "      <td>0</td>\n",
              "      <td>1</td>\n",
              "      <td>4</td>\n",
              "    </tr>\n",
              "    <tr>\n",
              "      <th>17783</th>\n",
              "      <td>1</td>\n",
              "      <td>4</td>\n",
              "      <td>2</td>\n",
              "      <td>3</td>\n",
              "      <td>0</td>\n",
              "      <td>0</td>\n",
              "      <td>0</td>\n",
              "      <td>3</td>\n",
              "      <td>4</td>\n",
              "    </tr>\n",
              "    <tr>\n",
              "      <th>3833</th>\n",
              "      <td>1</td>\n",
              "      <td>4</td>\n",
              "      <td>2</td>\n",
              "      <td>7</td>\n",
              "      <td>0</td>\n",
              "      <td>0</td>\n",
              "      <td>0</td>\n",
              "      <td>1</td>\n",
              "      <td>0</td>\n",
              "    </tr>\n",
              "    <tr>\n",
              "      <th>5631</th>\n",
              "      <td>1</td>\n",
              "      <td>4</td>\n",
              "      <td>1</td>\n",
              "      <td>3</td>\n",
              "      <td>0</td>\n",
              "      <td>0</td>\n",
              "      <td>1</td>\n",
              "      <td>1</td>\n",
              "      <td>4</td>\n",
              "    </tr>\n",
              "    <tr>\n",
              "      <th>10368</th>\n",
              "      <td>1</td>\n",
              "      <td>4</td>\n",
              "      <td>2</td>\n",
              "      <td>0</td>\n",
              "      <td>0</td>\n",
              "      <td>2</td>\n",
              "      <td>0</td>\n",
              "      <td>2</td>\n",
              "      <td>4</td>\n",
              "    </tr>\n",
              "  </tbody>\n",
              "</table>\n",
              "</div>"
            ],
            "text/plain": [
              "       sex  race  age_bins  ...  income  workclass  occupation\n",
              "16887    0     1         1  ...       0          1           4\n",
              "17783    1     4         2  ...       0          3           4\n",
              "3833     1     4         2  ...       0          1           0\n",
              "5631     1     4         1  ...       1          1           4\n",
              "10368    1     4         2  ...       0          2           4\n",
              "\n",
              "[5 rows x 9 columns]"
            ]
          },
          "metadata": {},
          "execution_count": 17
        }
      ]
    },
    {
      "cell_type": "code",
      "metadata": {
        "id": "2boJQOnVZgpn"
      },
      "source": [
        "#all models 1\n",
        "DT = DecisionTreeRegressor(random_state=10) \n",
        "RF = RandomForestRegressor(random_state=10)\n",
        "EXT = ExtraTreeRegressor(random_state=10)\n",
        "ADA = AdaBoostRegressor(learning_rate=0.01,random_state=10)\n",
        "GBT = GradientBoostingRegressor(learning_rate=0.01, random_state=10) \n",
        "HGBT = HistGradientBoostingRegressor(learning_rate=0.01, random_state=10)\n",
        "XGB = XGBRegressor(learning_rate = 0.01,random_state=10)"
      ],
      "execution_count": null,
      "outputs": []
    },
    {
      "cell_type": "code",
      "metadata": {
        "id": "mcIHO8jEa6Aq"
      },
      "source": [
        "def score_1(model,x_train, y_train, x_val, y_val):\n",
        "    #fit model\n",
        "    model.fit(x_train,y_train)\n",
        " \n",
        "    #score train dan val\n",
        "    score_train.append(model.score(x_train, y_train)) \n",
        "    score_val.append(model.score(x_val, y_val)) \n",
        "        \n",
        "    #roc auc score\n",
        "    pred = model.predict(x_val)\n",
        "    rmse = mean_squared_error(y_val, pred, squared=False) \n",
        "    loss_rmse.append(rmse) \n",
        "    \n",
        "    return model"
      ],
      "execution_count": null,
      "outputs": []
    },
    {
      "cell_type": "code",
      "metadata": {
        "colab": {
          "base_uri": "https://localhost:8080/"
        },
        "id": "7aus1DUrcouA",
        "outputId": "c32e0e81-18f1-4a8a-879f-d7bd5505306e"
      },
      "source": [
        "for i in [DT,RF,EXT,ADA,GBT,HGBT,XGB]:\n",
        "    print(20*\"-\")\n",
        "    print(i,\"Done\")\n",
        "    score_1(i, x_train_1, y_train, x_val_1, y_val)"
      ],
      "execution_count": null,
      "outputs": [
        {
          "output_type": "stream",
          "name": "stdout",
          "text": [
            "--------------------\n",
            "DecisionTreeRegressor(random_state=10) Done\n",
            "--------------------\n",
            "RandomForestRegressor(random_state=10) Done\n",
            "--------------------\n",
            "ExtraTreeRegressor(random_state=10) Done\n",
            "--------------------\n",
            "AdaBoostRegressor(learning_rate=0.01, random_state=10) Done\n",
            "--------------------\n",
            "GradientBoostingRegressor(learning_rate=0.01, random_state=10) Done\n",
            "--------------------\n",
            "HistGradientBoostingRegressor(learning_rate=0.01, random_state=10) Done\n",
            "--------------------\n",
            "XGBRegressor(learning_rate=0.01, random_state=10) Done\n",
            "[07:42:29] WARNING: /workspace/src/objective/regression_obj.cu:152: reg:linear is now deprecated in favor of reg:squarederror.\n"
          ]
        }
      ]
    },
    {
      "cell_type": "markdown",
      "metadata": {
        "id": "TJxetJBsgoxm"
      },
      "source": [
        "#Model 2\n",
        "LGBM, CATBOOST"
      ]
    },
    {
      "cell_type": "code",
      "metadata": {
        "id": "CCIhg1WTgqot"
      },
      "source": [
        "x_train_2 = x_train[col_penting.columns]\n",
        "x_val_2 = x_val[col_penting.columns]"
      ],
      "execution_count": null,
      "outputs": []
    },
    {
      "cell_type": "code",
      "metadata": {
        "colab": {
          "base_uri": "https://localhost:8080/"
        },
        "id": "4OKsEpN9hKMO",
        "outputId": "34238b9e-e433-4db7-f776-4e0ff6816c46"
      },
      "source": [
        "x_train_2.dtypes"
      ],
      "execution_count": null,
      "outputs": [
        {
          "output_type": "execute_result",
          "data": {
            "text/plain": [
              "sex             category\n",
              "race            category\n",
              "age_bins        category\n",
              "education       category\n",
              "relationship    category\n",
              "capital-gain    category\n",
              "income          category\n",
              "workclass       category\n",
              "occupation      category\n",
              "dtype: object"
            ]
          },
          "metadata": {},
          "execution_count": 77
        }
      ]
    },
    {
      "cell_type": "code",
      "metadata": {
        "id": "dDMNC564hiP8"
      },
      "source": [
        "cater = x_train_2.columns.to_list()"
      ],
      "execution_count": null,
      "outputs": []
    },
    {
      "cell_type": "code",
      "metadata": {
        "id": "0ymyqgqgiU10"
      },
      "source": [
        "CB = CatBoostRegressor(learning_rate=0.01, random_state=10)\n",
        "LGBM = LGBMRegressor(learning_rate=0.01, random_state=10)"
      ],
      "execution_count": null,
      "outputs": []
    },
    {
      "cell_type": "code",
      "metadata": {
        "id": "Z3kMcuv3gn79"
      },
      "source": [
        "def score_2(model,x_train, y_train, x_val, y_val):\n",
        "       \n",
        "    #lgbm\n",
        "    if model == LGBM:\n",
        "       #fit model\n",
        "       model.fit(x_train,y_train,verbose=False)\n",
        " \n",
        "       #accuracy train dan val\n",
        "       score_train.append(model.score(x_train, y_train))\n",
        "       score_val.append(model.score(x_val, y_val))\n",
        "     \n",
        "   \n",
        "       #rmse\n",
        "       pred = model.predict(x_val) \n",
        "       rmse = mean_squared_error(y_val, pred,squared=False)\n",
        "       loss_rmse.append(rmse)\n",
        " \n",
        "   #catboost\n",
        "    else:         \n",
        "       model.fit(x_train,y_train,cat_features=cater,verbose=False)\n",
        " \n",
        "       #accuracy train dan val\n",
        "       score_train.append(model.score(x_train, y_train))\n",
        "       score_val.append(model.score(x_val, y_val))\n",
        "          \n",
        "       #rmse\n",
        "       pred = model.predict(x_val)\n",
        "       rmse = mean_squared_error(y_val, pred,squared=False)\n",
        "       loss_rmse.append(rmse)\n",
        "\n",
        "    return model"
      ],
      "execution_count": null,
      "outputs": []
    },
    {
      "cell_type": "code",
      "metadata": {
        "colab": {
          "base_uri": "https://localhost:8080/"
        },
        "id": "-H2sojRViO9J",
        "outputId": "ae76acfe-e9e5-4f61-a206-9300848517ed"
      },
      "source": [
        "for i in [LGBM,CB]:\n",
        "    print(20*\"-\")\n",
        "    print(i,\"Done\")\n",
        "    score_2(i, x_train_2, y_train, x_val_2, y_val)"
      ],
      "execution_count": null,
      "outputs": [
        {
          "output_type": "stream",
          "name": "stdout",
          "text": [
            "--------------------\n",
            "LGBMRegressor(learning_rate=0.01, random_state=10) Done\n",
            "--------------------\n",
            "<catboost.core.CatBoostRegressor object at 0x7f2542ca6310> Done\n"
          ]
        }
      ]
    },
    {
      "cell_type": "markdown",
      "metadata": {
        "id": "tkee6lhWkCub"
      },
      "source": [
        "#Model 3 \n",
        "KNN, SVM, LinearRegression, Lasso(l1), Ridge(l2)"
      ]
    },
    {
      "cell_type": "code",
      "metadata": {
        "id": "Lkj-F5-NkD_o"
      },
      "source": [
        "x_train_3 = x_train_1\n",
        "x_val_3 = x_val_1"
      ],
      "execution_count": null,
      "outputs": []
    },
    {
      "cell_type": "code",
      "metadata": {
        "id": "uTV1RjoOkPNF"
      },
      "source": [
        "sc = StandardScaler()\n",
        "x_train_3 = sc.fit_transform(x_train_3)\n",
        "x_val_3 = sc.transform(x_val_3)"
      ],
      "execution_count": null,
      "outputs": []
    },
    {
      "cell_type": "code",
      "metadata": {
        "id": "PzpKCPMxkoUJ"
      },
      "source": [
        "KNN = KNeighborsRegressor()\n",
        "SVM = SVR(kernel=\"linear\")\n",
        "LR = LinearRegression()\n",
        "RIDGE = Ridge(random_state=10)\n",
        "LASSO  = Lasso(random_state=10)"
      ],
      "execution_count": null,
      "outputs": []
    },
    {
      "cell_type": "code",
      "metadata": {
        "id": "apB6B9ZwmXVC"
      },
      "source": [
        "def score_3(model,x_train, y_train, x_val, y_val):\n",
        "    #fit model\n",
        "    model.fit(x_train,y_train)\n",
        " \n",
        "    #score train dan val\n",
        "    score_train.append(model.score(x_train, y_train)) \n",
        "    score_val.append(model.score(x_val, y_val)) \n",
        "        \n",
        "    #roc auc score\n",
        "    pred = model.predict(x_val)\n",
        "    rmse = mean_squared_error(y_val, pred, squared=False) \n",
        "    loss_rmse.append(rmse) \n",
        "    \n",
        "    return model"
      ],
      "execution_count": null,
      "outputs": []
    },
    {
      "cell_type": "code",
      "metadata": {
        "colab": {
          "base_uri": "https://localhost:8080/"
        },
        "id": "Bt-KqHn1md-u",
        "outputId": "19ddbc86-30ec-4e20-ded8-12a1609d6aa0"
      },
      "source": [
        "for i in [KNN,SVM,LR,RIDGE,LASSO]:\n",
        "    print(20*\"-\")\n",
        "    print(i,\"Done\")\n",
        "    score_3(i, x_train_3, y_train, x_val_3, y_val)"
      ],
      "execution_count": null,
      "outputs": [
        {
          "output_type": "stream",
          "name": "stdout",
          "text": [
            "--------------------\n",
            "KNeighborsRegressor() Done\n",
            "--------------------\n",
            "SVR(kernel='linear') Done\n",
            "--------------------\n",
            "LinearRegression() Done\n",
            "--------------------\n",
            "Ridge(random_state=10) Done\n",
            "--------------------\n",
            "Lasso(random_state=10) Done\n"
          ]
        }
      ]
    },
    {
      "cell_type": "markdown",
      "metadata": {
        "id": "ThQTaw8UhLSA"
      },
      "source": [
        "#Model selection"
      ]
    },
    {
      "cell_type": "code",
      "metadata": {
        "id": "j6qvL4AxfuM7"
      },
      "source": [
        "all_models = pd.DataFrame({\"models\": [\"DT\",\"RF\",\"EXT\",\"ADA\",\"GBT\",\"HGBT\",\"XGB\",\"LGBM\",\"CB\",\"KNN\",\"SVR\",\"LR\",\"RIDGE\",\"LASSO\"],\n",
        "                         \"score_train\":score_train, \"score_val\":score_val, \"loss_rmse\":loss_rmse})"
      ],
      "execution_count": null,
      "outputs": []
    },
    {
      "cell_type": "code",
      "metadata": {
        "id": "ywhnuh99gafF"
      },
      "source": [
        "all_models = all_models.set_index(\"models\")"
      ],
      "execution_count": null,
      "outputs": []
    },
    {
      "cell_type": "code",
      "metadata": {
        "colab": {
          "base_uri": "https://localhost:8080/",
          "height": 534
        },
        "id": "qZre82OHgmMC",
        "outputId": "ee71d870-782b-4b3a-ddef-8e57a11f57b5"
      },
      "source": [
        "all_models"
      ],
      "execution_count": null,
      "outputs": [
        {
          "output_type": "execute_result",
          "data": {
            "text/html": [
              "<div>\n",
              "<style scoped>\n",
              "    .dataframe tbody tr th:only-of-type {\n",
              "        vertical-align: middle;\n",
              "    }\n",
              "\n",
              "    .dataframe tbody tr th {\n",
              "        vertical-align: top;\n",
              "    }\n",
              "\n",
              "    .dataframe thead th {\n",
              "        text-align: right;\n",
              "    }\n",
              "</style>\n",
              "<table border=\"1\" class=\"dataframe\">\n",
              "  <thead>\n",
              "    <tr style=\"text-align: right;\">\n",
              "      <th></th>\n",
              "      <th>score_train</th>\n",
              "      <th>score_val</th>\n",
              "      <th>loss_rmse</th>\n",
              "    </tr>\n",
              "    <tr>\n",
              "      <th>models</th>\n",
              "      <th></th>\n",
              "      <th></th>\n",
              "      <th></th>\n",
              "    </tr>\n",
              "  </thead>\n",
              "  <tbody>\n",
              "    <tr>\n",
              "      <th>DT</th>\n",
              "      <td>0.612299</td>\n",
              "      <td>-0.197956</td>\n",
              "      <td>12.022999</td>\n",
              "    </tr>\n",
              "    <tr>\n",
              "      <th>RF</th>\n",
              "      <td>0.567333</td>\n",
              "      <td>0.076626</td>\n",
              "      <td>10.555556</td>\n",
              "    </tr>\n",
              "    <tr>\n",
              "      <th>EXT</th>\n",
              "      <td>0.612299</td>\n",
              "      <td>-0.216227</td>\n",
              "      <td>12.114340</td>\n",
              "    </tr>\n",
              "    <tr>\n",
              "      <th>ADA</th>\n",
              "      <td>0.171139</td>\n",
              "      <td>0.176165</td>\n",
              "      <td>9.970397</td>\n",
              "    </tr>\n",
              "    <tr>\n",
              "      <th>GBT</th>\n",
              "      <td>0.157617</td>\n",
              "      <td>0.162470</td>\n",
              "      <td>10.052928</td>\n",
              "    </tr>\n",
              "    <tr>\n",
              "      <th>HGBT</th>\n",
              "      <td>0.193870</td>\n",
              "      <td>0.189135</td>\n",
              "      <td>9.891601</td>\n",
              "    </tr>\n",
              "    <tr>\n",
              "      <th>XGB</th>\n",
              "      <td>-1.533037</td>\n",
              "      <td>-1.545629</td>\n",
              "      <td>17.526287</td>\n",
              "    </tr>\n",
              "    <tr>\n",
              "      <th>LGBM</th>\n",
              "      <td>0.206736</td>\n",
              "      <td>0.205137</td>\n",
              "      <td>9.793513</td>\n",
              "    </tr>\n",
              "    <tr>\n",
              "      <th>CB</th>\n",
              "      <td>0.258345</td>\n",
              "      <td>0.247913</td>\n",
              "      <td>9.526349</td>\n",
              "    </tr>\n",
              "    <tr>\n",
              "      <th>KNN</th>\n",
              "      <td>0.326711</td>\n",
              "      <td>0.092349</td>\n",
              "      <td>10.465303</td>\n",
              "    </tr>\n",
              "    <tr>\n",
              "      <th>SVR</th>\n",
              "      <td>0.127552</td>\n",
              "      <td>0.134733</td>\n",
              "      <td>10.218035</td>\n",
              "    </tr>\n",
              "    <tr>\n",
              "      <th>LR</th>\n",
              "      <td>0.168167</td>\n",
              "      <td>0.174348</td>\n",
              "      <td>9.981384</td>\n",
              "    </tr>\n",
              "    <tr>\n",
              "      <th>RIDGE</th>\n",
              "      <td>0.168167</td>\n",
              "      <td>0.174349</td>\n",
              "      <td>9.981382</td>\n",
              "    </tr>\n",
              "    <tr>\n",
              "      <th>LASSO</th>\n",
              "      <td>0.137298</td>\n",
              "      <td>0.147299</td>\n",
              "      <td>10.143570</td>\n",
              "    </tr>\n",
              "  </tbody>\n",
              "</table>\n",
              "</div>"
            ],
            "text/plain": [
              "        score_train  score_val  loss_rmse\n",
              "models                                   \n",
              "DT         0.612299  -0.197956  12.022999\n",
              "RF         0.567333   0.076626  10.555556\n",
              "EXT        0.612299  -0.216227  12.114340\n",
              "ADA        0.171139   0.176165   9.970397\n",
              "GBT        0.157617   0.162470  10.052928\n",
              "HGBT       0.193870   0.189135   9.891601\n",
              "XGB       -1.533037  -1.545629  17.526287\n",
              "LGBM       0.206736   0.205137   9.793513\n",
              "CB         0.258345   0.247913   9.526349\n",
              "KNN        0.326711   0.092349  10.465303\n",
              "SVR        0.127552   0.134733  10.218035\n",
              "LR         0.168167   0.174348   9.981384\n",
              "RIDGE      0.168167   0.174349   9.981382\n",
              "LASSO      0.137298   0.147299  10.143570"
            ]
          },
          "metadata": {},
          "execution_count": 95
        }
      ]
    },
    {
      "cell_type": "code",
      "metadata": {
        "colab": {
          "base_uri": "https://localhost:8080/",
          "height": 157
        },
        "id": "uSdAE86ldCZj",
        "outputId": "154c3588-a166-436a-b924-1ab227f05842"
      },
      "source": [
        "all_models[[\"score_train\", \"score_val\"]].plot.bar(figsize=(17,8))\n",
        "plt.title(\"R-square\", size=15)\n",
        "plt.ylabel(\"R-square\", size=15) \n",
        "plt.yticks(size=10)\n",
        "plt.xlabel(\"models\", size=15) \n",
        "plt.xticks(size=10)\n",
        "plt.legend(loc=3,fontsize=7)\n",
        "plt.show()"
      ],
      "execution_count": null,
      "outputs": [
        {
          "output_type": "display_data",
          "data": {
            "image/png": "[encoded data removed]",
            "text/plain": [
              "<Figure size 1224x576 with 1 Axes>"
            ]
          },
          "metadata": {
            "needs_background": "light"
          }
        }
      ]
    },
    {
      "cell_type": "code",
      "metadata": {
        "colab": {
          "base_uri": "https://localhost:8080/",
          "height": 158
        },
        "id": "Jb4tS-8HcRq9",
        "outputId": "8029a22a-e357-477a-d80d-971761c77675"
      },
      "source": [
        "plt.figure(figsize=(17, 8)) \n",
        "\n",
        "all_models.loss_rmse.sort_values().plot(kind=\"bar\")\n",
        "plt.title(\"RMSE\", size=15)\n",
        "plt.ylabel(\"error\",size=15)\n",
        "plt.yticks(size=10)\n",
        "plt.xlabel(\"models\",size=15) \n",
        "plt.xticks(size=10)\n",
        "plt.legend()\n",
        "plt.show()"
      ],
      "execution_count": null,
      "outputs": [
        {
          "output_type": "display_data",
          "data": {
            "image/png": "[encoded data removed]",
            "text/plain": [
              "<Figure size 1224x576 with 1 Axes>"
            ]
          },
          "metadata": {
            "needs_background": "light"
          }
        }
      ]
    },
    {
      "cell_type": "code",
      "metadata": {
        "id": "qIiUQ6YigvqT"
      },
      "source": [
        ""
      ],
      "execution_count": null,
      "outputs": []
    },
    {
      "cell_type": "markdown",
      "metadata": {
        "id": "ng5AnvRbgwZ3"
      },
      "source": [
        "# Hyperparameterize tuning"
      ]
    },
    {
      "cell_type": "code",
      "metadata": {
        "id": "kOOpug2Rg0Ru"
      },
      "source": [
        "def objective(trial):\n",
        "    \n",
        "    params = {#'loss_function':'Logloss',              \n",
        "              #'eval_metric':'Accuracy',\n",
        "              #'task_type' : trial.suggest_categorical(\"task_type\",[\"GPU\"]),           \n",
        "              'bootstrap_type':trial.suggest_categorical(\"bootstrap_type\",[\"Bernoulli\"]), #\"MVS\"]),#\"Bayesian\" \n",
        "              'iterations':trial.suggest_int(\"iterations\", 1000,10000),\n",
        "              'od_wait':trial.suggest_int('od_wait', 500, 2000), \n",
        "              'random_strength': trial.suggest_uniform('random_strength',10,50),                           \n",
        "              'learning_rate' : trial.suggest_uniform('learning_rate',0.01,0.03),\n",
        "              'reg_lambda': trial.suggest_uniform('reg_lambda',1e-5,100),\n",
        "              'subsample': trial.suggest_uniform('subsample',0,1),\n",
        "              'depth': trial.suggest_int('depth',1,10),\n",
        "              'min_data_in_leaf': trial.suggest_int('min_data_in_leaf',1,30),\n",
        "              'leaf_estimation_iterations': trial.suggest_int('leaf_estimation_iterations',1,15),\n",
        "               }\n",
        "    model = CatBoostRegressor(**params)  \n",
        "    model.fit(x_train_2,y_train,eval_set=[(x_val_2,y_val)],verbose=False,early_stopping_rounds=100,\n",
        "             cat_features = cater) #catfeatures for category cols\n",
        "        \n",
        "    y_preds = model.predict(x_val_2)    \n",
        "    error = mean_squared_error(y_val, y_preds,squared=False)\n",
        "\n",
        "    return error"
      ],
      "execution_count": null,
      "outputs": []
    },
    {
      "cell_type": "code",
      "metadata": {
        "colab": {
          "base_uri": "https://localhost:8080/"
        },
        "id": "OZRcguC-jdNy",
        "outputId": "aadb76d2-f8f2-4f73-bc4f-142c571deebb"
      },
      "source": [
        "study = optuna.create_study(direction='minimize')\n",
        "study.optimize(objective, n_trials=50)"
      ],
      "execution_count": null,
      "outputs": [
        {
          "output_type": "stream",
          "name": "stderr",
          "text": [
            "\u001b[32m[I 2021-09-30 07:20:12,159]\u001b[0m A new study created in memory with name: no-name-848faf4f-e724-4779-a004-e7806d737100\u001b[0m\n",
            "\u001b[32m[I 2021-09-30 07:20:40,468]\u001b[0m Trial 0 finished with value: 9.527687995459267 and parameters: {'bootstrap_type': 'Bernoulli', 'iterations': 1762, 'od_wait': 601, 'random_strength': 43.05802396833062, 'learning_rate': 0.012698748660933465, 'reg_lambda': 57.345144655722, 'subsample': 0.8300588748547283, 'depth': 6, 'min_data_in_leaf': 21, 'leaf_estimation_iterations': 6}. Best is trial 0 with value: 9.527687995459267.\u001b[0m\n",
            "\u001b[32m[I 2021-09-30 07:20:46,566]\u001b[0m Trial 1 finished with value: 9.568653785338519 and parameters: {'bootstrap_type': 'Bernoulli', 'iterations': 1184, 'od_wait': 718, 'random_strength': 30.053311280955537, 'learning_rate': 0.024664472983399466, 'reg_lambda': 51.29755796797268, 'subsample': 0.18208400777050915, 'depth': 2, 'min_data_in_leaf': 18, 'leaf_estimation_iterations': 6}. Best is trial 0 with value: 9.527687995459267.\u001b[0m\n",
            "\u001b[32m[I 2021-09-30 07:21:06,823]\u001b[0m Trial 2 finished with value: 9.528634278868703 and parameters: {'bootstrap_type': 'Bernoulli', 'iterations': 5263, 'od_wait': 1651, 'random_strength': 25.349037419455556, 'learning_rate': 0.028173249476600028, 'reg_lambda': 88.11175491935715, 'subsample': 0.9955466264550875, 'depth': 5, 'min_data_in_leaf': 28, 'leaf_estimation_iterations': 3}. Best is trial 0 with value: 9.527687995459267.\u001b[0m\n",
            "\u001b[32m[I 2021-09-30 07:21:43,369]\u001b[0m Trial 3 finished with value: 9.534084835168708 and parameters: {'bootstrap_type': 'Bernoulli', 'iterations': 5529, 'od_wait': 1457, 'random_strength': 16.93055521559511, 'learning_rate': 0.0179531807042672, 'reg_lambda': 91.18956699189107, 'subsample': 0.4058857630636983, 'depth': 10, 'min_data_in_leaf': 7, 'leaf_estimation_iterations': 7}. Best is trial 0 with value: 9.527687995459267.\u001b[0m\n",
            "\u001b[32m[I 2021-09-30 07:22:05,269]\u001b[0m Trial 4 finished with value: 9.561885828102659 and parameters: {'bootstrap_type': 'Bernoulli', 'iterations': 9073, 'od_wait': 1907, 'random_strength': 33.72404743141068, 'learning_rate': 0.02705352539043656, 'reg_lambda': 36.93717615413844, 'subsample': 0.16321378914943663, 'depth': 10, 'min_data_in_leaf': 28, 'leaf_estimation_iterations': 7}. Best is trial 0 with value: 9.527687995459267.\u001b[0m\n",
            "\u001b[32m[I 2021-09-30 07:22:33,562]\u001b[0m Trial 5 finished with value: 9.525564325940945 and parameters: {'bootstrap_type': 'Bernoulli', 'iterations': 6455, 'od_wait': 1576, 'random_strength': 30.806004659734167, 'learning_rate': 0.013540333245379881, 'reg_lambda': 61.506896434643195, 'subsample': 0.7319558255397663, 'depth': 5, 'min_data_in_leaf': 24, 'leaf_estimation_iterations': 11}. Best is trial 5 with value: 9.525564325940945.\u001b[0m\n",
            "\u001b[32m[I 2021-09-30 07:22:50,035]\u001b[0m Trial 6 finished with value: 9.525129502978627 and parameters: {'bootstrap_type': 'Bernoulli', 'iterations': 3692, 'od_wait': 1477, 'random_strength': 28.283138332373255, 'learning_rate': 0.029024702250626644, 'reg_lambda': 85.90142063135809, 'subsample': 0.4658300223213687, 'depth': 5, 'min_data_in_leaf': 1, 'leaf_estimation_iterations': 15}. Best is trial 6 with value: 9.525129502978627.\u001b[0m\n",
            "\u001b[32m[I 2021-09-30 07:23:33,278]\u001b[0m Trial 7 finished with value: 9.546816797053452 and parameters: {'bootstrap_type': 'Bernoulli', 'iterations': 7938, 'od_wait': 1959, 'random_strength': 21.722912004918598, 'learning_rate': 0.014395034716590118, 'reg_lambda': 62.9493968260237, 'subsample': 0.11588623594076475, 'depth': 10, 'min_data_in_leaf': 18, 'leaf_estimation_iterations': 13}. Best is trial 6 with value: 9.525129502978627.\u001b[0m\n",
            "\u001b[32m[I 2021-09-30 07:23:45,282]\u001b[0m Trial 8 finished with value: 9.528733453108359 and parameters: {'bootstrap_type': 'Bernoulli', 'iterations': 9177, 'od_wait': 1366, 'random_strength': 44.569726044609794, 'learning_rate': 0.027568424771210423, 'reg_lambda': 14.513225866693304, 'subsample': 0.403428853000123, 'depth': 4, 'min_data_in_leaf': 24, 'leaf_estimation_iterations': 10}. Best is trial 6 with value: 9.525129502978627.\u001b[0m\n",
            "\u001b[32m[I 2021-09-30 07:23:59,395]\u001b[0m Trial 9 finished with value: 9.527041695971674 and parameters: {'bootstrap_type': 'Bernoulli', 'iterations': 8966, 'od_wait': 1263, 'random_strength': 22.560984518173534, 'learning_rate': 0.022285935544703886, 'reg_lambda': 13.86317034858601, 'subsample': 0.6709700173896554, 'depth': 6, 'min_data_in_leaf': 23, 'leaf_estimation_iterations': 3}. Best is trial 6 with value: 9.525129502978627.\u001b[0m\n",
            "\u001b[32m[I 2021-09-30 07:24:14,358]\u001b[0m Trial 10 finished with value: 9.644751717150193 and parameters: {'bootstrap_type': 'Bernoulli', 'iterations': 3401, 'od_wait': 953, 'random_strength': 11.83867354432953, 'learning_rate': 0.01968278775396623, 'reg_lambda': 78.60676011141719, 'subsample': 0.5455347994374529, 'depth': 1, 'min_data_in_leaf': 1, 'leaf_estimation_iterations': 15}. Best is trial 6 with value: 9.525129502978627.\u001b[0m\n",
            "\u001b[32m[I 2021-09-30 07:24:50,248]\u001b[0m Trial 11 finished with value: 9.528415032918778 and parameters: {'bootstrap_type': 'Bernoulli', 'iterations': 6252, 'od_wait': 1665, 'random_strength': 36.97607419509988, 'learning_rate': 0.010913842920600172, 'reg_lambda': 75.9167646507844, 'subsample': 0.655161501576021, 'depth': 7, 'min_data_in_leaf': 10, 'leaf_estimation_iterations': 11}. Best is trial 6 with value: 9.525129502978627.\u001b[0m\n",
            "\u001b[32m[I 2021-09-30 07:25:15,901]\u001b[0m Trial 12 finished with value: 9.537736891684967 and parameters: {'bootstrap_type': 'Bernoulli', 'iterations': 3718, 'od_wait': 1047, 'random_strength': 37.483226072605326, 'learning_rate': 0.016429089986368068, 'reg_lambda': 33.794282855141184, 'subsample': 0.7992326291486673, 'depth': 3, 'min_data_in_leaf': 12, 'leaf_estimation_iterations': 15}. Best is trial 6 with value: 9.525129502978627.\u001b[0m\n",
            "\u001b[32m[I 2021-09-30 07:25:38,751]\u001b[0m Trial 13 finished with value: 9.52621191845412 and parameters: {'bootstrap_type': 'Bernoulli', 'iterations': 6940, 'od_wait': 1593, 'random_strength': 28.528967083919405, 'learning_rate': 0.02226762373273411, 'reg_lambda': 99.3337212025107, 'subsample': 0.3772356171233152, 'depth': 8, 'min_data_in_leaf': 4, 'leaf_estimation_iterations': 12}. Best is trial 6 with value: 9.525129502978627.\u001b[0m\n",
            "\u001b[32m[I 2021-09-30 07:25:52,391]\u001b[0m Trial 14 finished with value: 9.518594168270871 and parameters: {'bootstrap_type': 'Bernoulli', 'iterations': 4003, 'od_wait': 1080, 'random_strength': 49.661528549821156, 'learning_rate': 0.029656699439548673, 'reg_lambda': 68.88701396281562, 'subsample': 0.5713346338207339, 'depth': 4, 'min_data_in_leaf': 13, 'leaf_estimation_iterations': 10}. Best is trial 14 with value: 9.518594168270871.\u001b[0m\n",
            "\u001b[32m[I 2021-09-30 07:26:08,531]\u001b[0m Trial 15 finished with value: 9.52718688835646 and parameters: {'bootstrap_type': 'Bernoulli', 'iterations': 3719, 'od_wait': 1075, 'random_strength': 47.731103446382654, 'learning_rate': 0.029998742187766894, 'reg_lambda': 73.84780113844212, 'subsample': 0.5381463801335048, 'depth': 3, 'min_data_in_leaf': 13, 'leaf_estimation_iterations': 9}. Best is trial 14 with value: 9.518594168270871.\u001b[0m\n",
            "\u001b[32m[I 2021-09-30 07:26:30,488]\u001b[0m Trial 16 finished with value: 9.527543990266583 and parameters: {'bootstrap_type': 'Bernoulli', 'iterations': 2662, 'od_wait': 1160, 'random_strength': 49.66114170024165, 'learning_rate': 0.02486257145017554, 'reg_lambda': 70.1548150744528, 'subsample': 0.29509461659594416, 'depth': 8, 'min_data_in_leaf': 1, 'leaf_estimation_iterations': 13}. Best is trial 14 with value: 9.518594168270871.\u001b[0m\n",
            "\u001b[32m[I 2021-09-30 07:26:40,248]\u001b[0m Trial 17 finished with value: 9.523845435555835 and parameters: {'bootstrap_type': 'Bernoulli', 'iterations': 4648, 'od_wait': 941, 'random_strength': 40.967749617392485, 'learning_rate': 0.029939938335584726, 'reg_lambda': 39.74302302421741, 'subsample': 0.5819480784915307, 'depth': 4, 'min_data_in_leaf': 6, 'leaf_estimation_iterations': 1}. Best is trial 14 with value: 9.518594168270871.\u001b[0m\n",
            "\u001b[32m[I 2021-09-30 07:26:54,021]\u001b[0m Trial 18 finished with value: 9.521018949509015 and parameters: {'bootstrap_type': 'Bernoulli', 'iterations': 5019, 'od_wait': 814, 'random_strength': 41.64997176680715, 'learning_rate': 0.02531805376350948, 'reg_lambda': 34.657457463285176, 'subsample': 0.01942248804338992, 'depth': 3, 'min_data_in_leaf': 8, 'leaf_estimation_iterations': 4}. Best is trial 14 with value: 9.518594168270871.\u001b[0m\n",
            "\u001b[32m[I 2021-09-30 07:27:08,677]\u001b[0m Trial 19 finished with value: 9.653675934122173 and parameters: {'bootstrap_type': 'Bernoulli', 'iterations': 4548, 'od_wait': 769, 'random_strength': 46.166725437734904, 'learning_rate': 0.02550470624045644, 'reg_lambda': 1.732479274306435, 'subsample': 0.022076219296004895, 'depth': 1, 'min_data_in_leaf': 9, 'leaf_estimation_iterations': 4}. Best is trial 14 with value: 9.518594168270871.\u001b[0m\n",
            "\u001b[32m[I 2021-09-30 07:27:26,671]\u001b[0m Trial 20 finished with value: 9.54151730108387 and parameters: {'bootstrap_type': 'Bernoulli', 'iterations': 2165, 'od_wait': 802, 'random_strength': 39.307911530701524, 'learning_rate': 0.022220664836704693, 'reg_lambda': 25.46208130810784, 'subsample': 0.2282102194874122, 'depth': 3, 'min_data_in_leaf': 15, 'leaf_estimation_iterations': 9}. Best is trial 14 with value: 9.518594168270871.\u001b[0m\n",
            "\u001b[32m[I 2021-09-30 07:27:37,684]\u001b[0m Trial 21 finished with value: 9.525593648335446 and parameters: {'bootstrap_type': 'Bernoulli', 'iterations': 4589, 'od_wait': 921, 'random_strength': 40.58354743561768, 'learning_rate': 0.026247590394897543, 'reg_lambda': 41.75721774016992, 'subsample': 0.6088777819098374, 'depth': 4, 'min_data_in_leaf': 6, 'leaf_estimation_iterations': 1}. Best is trial 14 with value: 9.518594168270871.\u001b[0m\n",
            "\u001b[32m[I 2021-09-30 07:27:43,978]\u001b[0m Trial 22 finished with value: 9.526285721582843 and parameters: {'bootstrap_type': 'Bernoulli', 'iterations': 4962, 'od_wait': 528, 'random_strength': 42.62767508043252, 'learning_rate': 0.02996558576692709, 'reg_lambda': 47.38406718848932, 'subsample': 0.019962882071700813, 'depth': 4, 'min_data_in_leaf': 5, 'leaf_estimation_iterations': 1}. Best is trial 14 with value: 9.518594168270871.\u001b[0m\n",
            "\u001b[32m[I 2021-09-30 07:27:55,907]\u001b[0m Trial 23 finished with value: 9.54161435061624 and parameters: {'bootstrap_type': 'Bernoulli', 'iterations': 2796, 'od_wait': 911, 'random_strength': 49.91316369637772, 'learning_rate': 0.023754621216508155, 'reg_lambda': 30.95208327636729, 'subsample': 0.28400196616550044, 'depth': 2, 'min_data_in_leaf': 9, 'leaf_estimation_iterations': 4}. Best is trial 14 with value: 9.518594168270871.\u001b[0m\n",
            "\u001b[32m[I 2021-09-30 07:28:07,015]\u001b[0m Trial 24 finished with value: 9.551924559088537 and parameters: {'bootstrap_type': 'Bernoulli', 'iterations': 5821, 'od_wait': 1226, 'random_strength': 35.871294695369414, 'learning_rate': 0.028152666506888243, 'reg_lambda': 23.859674509953035, 'subsample': 0.9309847766451917, 'depth': 2, 'min_data_in_leaf': 12, 'leaf_estimation_iterations': 2}. Best is trial 14 with value: 9.518594168270871.\u001b[0m\n",
            "\u001b[32m[I 2021-09-30 07:28:18,058]\u001b[0m Trial 25 finished with value: 9.528053110576252 and parameters: {'bootstrap_type': 'Bernoulli', 'iterations': 4295, 'od_wait': 1037, 'random_strength': 41.29708660550767, 'learning_rate': 0.02662395874052038, 'reg_lambda': 45.678725002980315, 'subsample': 0.5604118539540235, 'depth': 4, 'min_data_in_leaf': 15, 'leaf_estimation_iterations': 4}. Best is trial 14 with value: 9.518594168270871.\u001b[0m\n",
            "\u001b[32m[I 2021-09-30 07:28:28,152]\u001b[0m Trial 26 finished with value: 9.534722851383146 and parameters: {'bootstrap_type': 'Bernoulli', 'iterations': 7242, 'od_wait': 661, 'random_strength': 45.972003183360826, 'learning_rate': 0.0288509018880488, 'reg_lambda': 52.497857819130274, 'subsample': 0.477989713850601, 'depth': 3, 'min_data_in_leaf': 4, 'leaf_estimation_iterations': 5}. Best is trial 14 with value: 9.518594168270871.\u001b[0m\n",
            "\u001b[32m[I 2021-09-30 07:28:46,871]\u001b[0m Trial 27 finished with value: 9.528444390623726 and parameters: {'bootstrap_type': 'Bernoulli', 'iterations': 3013, 'od_wait': 867, 'random_strength': 34.87228722030137, 'learning_rate': 0.02382328723673727, 'reg_lambda': 67.96580800148399, 'subsample': 0.7427422902394039, 'depth': 6, 'min_data_in_leaf': 8, 'leaf_estimation_iterations': 8}. Best is trial 14 with value: 9.518594168270871.\u001b[0m\n",
            "\u001b[32m[I 2021-09-30 07:28:54,870]\u001b[0m Trial 28 finished with value: 9.542417616949717 and parameters: {'bootstrap_type': 'Bernoulli', 'iterations': 4366, 'od_wait': 1149, 'random_strength': 47.188992504738984, 'learning_rate': 0.020953536903224906, 'reg_lambda': 17.28302399534126, 'subsample': 0.3524569848692127, 'depth': 2, 'min_data_in_leaf': 11, 'leaf_estimation_iterations': 1}. Best is trial 14 with value: 9.518594168270871.\u001b[0m\n",
            "\u001b[32m[I 2021-09-30 07:29:10,687]\u001b[0m Trial 29 finished with value: 9.523726171582611 and parameters: {'bootstrap_type': 'Bernoulli', 'iterations': 5798, 'od_wait': 595, 'random_strength': 43.1888562389068, 'learning_rate': 0.025964248107900406, 'reg_lambda': 55.55728217022023, 'subsample': 0.8439700102597516, 'depth': 6, 'min_data_in_leaf': 18, 'leaf_estimation_iterations': 2}. Best is trial 14 with value: 9.518594168270871.\u001b[0m\n",
            "\u001b[32m[I 2021-09-30 07:29:31,390]\u001b[0m Trial 30 finished with value: 9.525176708964 and parameters: {'bootstrap_type': 'Bernoulli', 'iterations': 5817, 'od_wait': 514, 'random_strength': 44.132051601144326, 'learning_rate': 0.019438033466171616, 'reg_lambda': 58.074672359824056, 'subsample': 0.8803511422195834, 'depth': 7, 'min_data_in_leaf': 19, 'leaf_estimation_iterations': 6}. Best is trial 14 with value: 9.518594168270871.\u001b[0m\n",
            "\u001b[32m[I 2021-09-30 07:29:47,069]\u001b[0m Trial 31 finished with value: 9.521513360902134 and parameters: {'bootstrap_type': 'Bernoulli', 'iterations': 5027, 'od_wait': 628, 'random_strength': 42.58138503124646, 'learning_rate': 0.026321268299708246, 'reg_lambda': 39.47965550663222, 'subsample': 0.8194563466575413, 'depth': 6, 'min_data_in_leaf': 14, 'leaf_estimation_iterations': 2}. Best is trial 14 with value: 9.518594168270871.\u001b[0m\n",
            "\u001b[32m[I 2021-09-30 07:30:02,709]\u001b[0m Trial 32 finished with value: 9.52151446836005 and parameters: {'bootstrap_type': 'Bernoulli', 'iterations': 7659, 'od_wait': 637, 'random_strength': 43.9372542030166, 'learning_rate': 0.02582868725376766, 'reg_lambda': 55.75806135721853, 'subsample': 0.8185662085906523, 'depth': 7, 'min_data_in_leaf': 17, 'leaf_estimation_iterations': 3}. Best is trial 14 with value: 9.518594168270871.\u001b[0m\n",
            "\u001b[32m[I 2021-09-30 07:30:23,310]\u001b[0m Trial 33 finished with value: 9.524974020067631 and parameters: {'bootstrap_type': 'Bernoulli', 'iterations': 7763, 'od_wait': 670, 'random_strength': 48.18931898594423, 'learning_rate': 0.023536343336961568, 'reg_lambda': 31.206608363847934, 'subsample': 0.9607664186160866, 'depth': 7, 'min_data_in_leaf': 14, 'leaf_estimation_iterations': 3}. Best is trial 14 with value: 9.518594168270871.\u001b[0m\n",
            "\u001b[32m[I 2021-09-30 07:30:40,603]\u001b[0m Trial 34 finished with value: 9.539572766118802 and parameters: {'bootstrap_type': 'Bernoulli', 'iterations': 1728, 'od_wait': 747, 'random_strength': 38.636728315665366, 'learning_rate': 0.027429048947850553, 'reg_lambda': 48.87643704429615, 'subsample': 0.7617380057799196, 'depth': 8, 'min_data_in_leaf': 17, 'leaf_estimation_iterations': 5}. Best is trial 14 with value: 9.518594168270871.\u001b[0m\n",
            "\u001b[32m[I 2021-09-30 07:30:53,247]\u001b[0m Trial 35 finished with value: 9.530247984589144 and parameters: {'bootstrap_type': 'Bernoulli', 'iterations': 5296, 'od_wait': 613, 'random_strength': 44.85881931746556, 'learning_rate': 0.025200941563524287, 'reg_lambda': 43.59452035723789, 'subsample': 0.8782963756025278, 'depth': 5, 'min_data_in_leaf': 21, 'leaf_estimation_iterations': 5}. Best is trial 14 with value: 9.518594168270871.\u001b[0m\n",
            "\u001b[32m[I 2021-09-30 07:31:12,462]\u001b[0m Trial 36 finished with value: 9.532684545626532 and parameters: {'bootstrap_type': 'Bernoulli', 'iterations': 8556, 'od_wait': 829, 'random_strength': 42.8026182250582, 'learning_rate': 0.028561627481564104, 'reg_lambda': 53.7214194056494, 'subsample': 0.6773658857785905, 'depth': 9, 'min_data_in_leaf': 16, 'leaf_estimation_iterations': 2}. Best is trial 14 with value: 9.518594168270871.\u001b[0m\n",
            "\u001b[32m[I 2021-09-30 07:31:33,913]\u001b[0m Trial 37 finished with value: 9.525128912434933 and parameters: {'bootstrap_type': 'Bernoulli', 'iterations': 9746, 'od_wait': 734, 'random_strength': 31.208109554839528, 'learning_rate': 0.026846447730092236, 'reg_lambda': 61.09252403499564, 'subsample': 0.9882623435785497, 'depth': 7, 'min_data_in_leaf': 20, 'leaf_estimation_iterations': 7}. Best is trial 14 with value: 9.518594168270871.\u001b[0m\n",
            "\u001b[32m[I 2021-09-30 07:31:48,098]\u001b[0m Trial 38 finished with value: 9.524868948458305 and parameters: {'bootstrap_type': 'Bernoulli', 'iterations': 6441, 'od_wait': 598, 'random_strength': 49.96595961484359, 'learning_rate': 0.02424756327590107, 'reg_lambda': 36.829573910624184, 'subsample': 0.8164758897225896, 'depth': 5, 'min_data_in_leaf': 13, 'leaf_estimation_iterations': 3}. Best is trial 14 with value: 9.518594168270871.\u001b[0m\n",
            "\u001b[32m[I 2021-09-30 07:32:04,148]\u001b[0m Trial 39 finished with value: 9.522153238665503 and parameters: {'bootstrap_type': 'Bernoulli', 'iterations': 3967, 'od_wait': 686, 'random_strength': 45.98361591151137, 'learning_rate': 0.02120275012809195, 'reg_lambda': 81.71543520436225, 'subsample': 0.10209118192683737, 'depth': 5, 'min_data_in_leaf': 16, 'leaf_estimation_iterations': 7}. Best is trial 14 with value: 9.518594168270871.\u001b[0m\n",
            "\u001b[32m[I 2021-09-30 07:32:23,281]\u001b[0m Trial 40 finished with value: 9.519467987910486 and parameters: {'bootstrap_type': 'Bernoulli', 'iterations': 5264, 'od_wait': 992, 'random_strength': 34.400625892668906, 'learning_rate': 0.027805109396526025, 'reg_lambda': 65.35193050372901, 'subsample': 0.7014256956356966, 'depth': 9, 'min_data_in_leaf': 23, 'leaf_estimation_iterations': 6}. Best is trial 14 with value: 9.518594168270871.\u001b[0m\n",
            "\u001b[32m[I 2021-09-30 07:32:43,312]\u001b[0m Trial 41 finished with value: 9.532237266044028 and parameters: {'bootstrap_type': 'Bernoulli', 'iterations': 5048, 'od_wait': 1002, 'random_strength': 32.039422213713955, 'learning_rate': 0.027674851091515365, 'reg_lambda': 68.4752774032256, 'subsample': 0.7083312293155245, 'depth': 9, 'min_data_in_leaf': 22, 'leaf_estimation_iterations': 6}. Best is trial 14 with value: 9.518594168270871.\u001b[0m\n",
            "\u001b[32m[I 2021-09-30 07:33:01,860]\u001b[0m Trial 42 finished with value: 9.534150921433904 and parameters: {'bootstrap_type': 'Bernoulli', 'iterations': 5361, 'od_wait': 856, 'random_strength': 39.08508254681383, 'learning_rate': 0.02903971355905679, 'reg_lambda': 61.626310608375704, 'subsample': 0.6353019003872128, 'depth': 9, 'min_data_in_leaf': 30, 'leaf_estimation_iterations': 4}. Best is trial 14 with value: 9.518594168270871.\u001b[0m\n",
            "\u001b[32m[I 2021-09-30 07:33:16,823]\u001b[0m Trial 43 finished with value: 9.523404246445498 and parameters: {'bootstrap_type': 'Bernoulli', 'iterations': 6992, 'od_wait': 1099, 'random_strength': 33.848896956187424, 'learning_rate': 0.02594130864832183, 'reg_lambda': 65.60970022556707, 'subsample': 0.7920815417062714, 'depth': 6, 'min_data_in_leaf': 25, 'leaf_estimation_iterations': 3}. Best is trial 14 with value: 9.518594168270871.\u001b[0m\n",
            "\u001b[32m[I 2021-09-30 07:33:47,746]\u001b[0m Trial 44 finished with value: 9.533406531621912 and parameters: {'bootstrap_type': 'Bernoulli', 'iterations': 6112, 'od_wait': 970, 'random_strength': 25.095751871701083, 'learning_rate': 0.027225276210502296, 'reg_lambda': 57.69461807072266, 'subsample': 0.8987585600329627, 'depth': 10, 'min_data_in_leaf': 28, 'leaf_estimation_iterations': 8}. Best is trial 14 with value: 9.518594168270871.\u001b[0m\n",
            "\u001b[32m[I 2021-09-30 07:34:06,748]\u001b[0m Trial 45 finished with value: 9.523918409957679 and parameters: {'bootstrap_type': 'Bernoulli', 'iterations': 4119, 'od_wait': 832, 'random_strength': 41.83889976101733, 'learning_rate': 0.02311524136354126, 'reg_lambda': 73.36456746886428, 'subsample': 0.7027998140829897, 'depth': 8, 'min_data_in_leaf': 26, 'leaf_estimation_iterations': 5}. Best is trial 14 with value: 9.518594168270871.\u001b[0m\n",
            "\u001b[32m[I 2021-09-30 07:34:21,450]\u001b[0m Trial 46 finished with value: 9.52668353526442 and parameters: {'bootstrap_type': 'Bernoulli', 'iterations': 4925, 'od_wait': 1371, 'random_strength': 37.63553762838978, 'learning_rate': 0.024918249577065572, 'reg_lambda': 81.96126681082679, 'subsample': 0.5121861980307627, 'depth': 7, 'min_data_in_leaf': 11, 'leaf_estimation_iterations': 6}. Best is trial 14 with value: 9.518594168270871.\u001b[0m\n",
            "\u001b[32m[I 2021-09-30 07:34:45,007]\u001b[0m Trial 47 finished with value: 9.532603674491698 and parameters: {'bootstrap_type': 'Bernoulli', 'iterations': 6772, 'od_wait': 546, 'random_strength': 15.595068972164473, 'learning_rate': 0.01804896737345655, 'reg_lambda': 25.459778326493034, 'subsample': 0.4531742918457939, 'depth': 3, 'min_data_in_leaf': 14, 'leaf_estimation_iterations': 10}. Best is trial 14 with value: 9.518594168270871.\u001b[0m\n",
            "\u001b[32m[I 2021-09-30 07:34:58,134]\u001b[0m Trial 48 finished with value: 9.52858737239465 and parameters: {'bootstrap_type': 'Bernoulli', 'iterations': 3373, 'od_wait': 1811, 'random_strength': 44.04950018692018, 'learning_rate': 0.02831139189374169, 'reg_lambda': 50.571237416679985, 'subsample': 0.7773925411091036, 'depth': 6, 'min_data_in_leaf': 18, 'leaf_estimation_iterations': 2}. Best is trial 14 with value: 9.518594168270871.\u001b[0m\n",
            "\u001b[32m[I 2021-09-30 07:35:19,818]\u001b[0m Trial 49 finished with value: 9.540237117842352 and parameters: {'bootstrap_type': 'Bernoulli', 'iterations': 7447, 'od_wait': 1273, 'random_strength': 47.82282590200173, 'learning_rate': 0.029314760639745856, 'reg_lambda': 64.1239174904861, 'subsample': 0.8404038163177625, 'depth': 9, 'min_data_in_leaf': 20, 'leaf_estimation_iterations': 10}. Best is trial 14 with value: 9.518594168270871.\u001b[0m\n"
          ]
        }
      ]
    },
    {
      "cell_type": "code",
      "metadata": {
        "id": "8DPc8TipoZyn"
      },
      "source": [
        "cb_params = study.best_trial.params"
      ],
      "execution_count": null,
      "outputs": []
    },
    {
      "cell_type": "code",
      "metadata": {
        "id": "Td8ahzg_pnpg"
      },
      "source": [
        "cb_params[\"loss_function\"] = \"RMSE\"\n",
        "cb_params[\"iterations\"] = 10000"
      ],
      "execution_count": null,
      "outputs": []
    },
    {
      "cell_type": "code",
      "metadata": {
        "colab": {
          "base_uri": "https://localhost:8080/"
        },
        "id": "9LTNgmmm0NaK",
        "outputId": "b922c3af-0569-4e2b-ff0e-f4f74db9aaa2"
      },
      "source": [
        "cb_params"
      ],
      "execution_count": null,
      "outputs": [
        {
          "output_type": "execute_result",
          "data": {
            "text/plain": [
              "{'bootstrap_type': 'Bernoulli',\n",
              " 'depth': 4,\n",
              " 'iterations': 10000,\n",
              " 'leaf_estimation_iterations': 10,\n",
              " 'learning_rate': 0.029656699439548673,\n",
              " 'loss_function': 'RMSE',\n",
              " 'min_data_in_leaf': 13,\n",
              " 'od_wait': 1080,\n",
              " 'random_strength': 49.661528549821156,\n",
              " 'reg_lambda': 68.88701396281562,\n",
              " 'subsample': 0.5713346338207339}"
            ]
          },
          "metadata": {},
          "execution_count": 69
        }
      ]
    },
    {
      "cell_type": "markdown",
      "metadata": {
        "id": "idbms6YMrovo"
      },
      "source": [
        "#Cross validation"
      ]
    },
    {
      "cell_type": "code",
      "metadata": {
        "id": "U57VXjWfwYSf"
      },
      "source": [
        "# kfold 5 split\n",
        "val_pred = []\n",
        "test_pred = []\n",
        "error_rmse = []\n",
        "\n",
        "def cross_val(X, y, test, model, params, folds=5):\n",
        "\n",
        "    skf = KFold(n_splits=folds, shuffle=True, random_state=21)\n",
        "    for fold, (train_idx, val_idx) in enumerate(skf.split(X, y)):\n",
        "        print(f\"Fold: {fold + 1}\")\n",
        "        X_train, y_train = X.iloc[train_idx], y.iloc[train_idx]\n",
        "        X_val, y_val = X.iloc[val_idx], y.iloc[val_idx]\n",
        "\n",
        "        alg = model(**params)\n",
        "        alg.fit(X_train, y_train,\n",
        "                eval_set=[(X_val, y_val)],\n",
        "                cat_features = cater, \n",
        "                early_stopping_rounds=100,\n",
        "                verbose=False)\n",
        "\n",
        "        pred = alg.predict(X_val)\n",
        "        val_pred.append(pred) \n",
        "\n",
        "        error = mean_squared_error(y_val, pred, squared=False)\n",
        "        error_rmse.append(error) \n",
        "\n",
        "        y_pred = alg.predict(tester)\n",
        "        test_pred.append(y_pred)\n",
        "        print(f\"error: {error}\")\n",
        "        print(\"-\"*50)\n",
        "\n",
        "    print(f\"\\nmean error folds: {np.array(error_rmse).mean()}\")\n",
        "    return alg"
      ],
      "execution_count": null,
      "outputs": []
    },
    {
      "cell_type": "code",
      "metadata": {
        "id": "8TAAP_PKzsWz"
      },
      "source": [
        "#bikin var baru \n",
        "x_new = x[col_penting.columns]\n",
        "y_new = y\n",
        "tester = test[col_penting.columns]"
      ],
      "execution_count": null,
      "outputs": []
    },
    {
      "cell_type": "code",
      "metadata": {
        "colab": {
          "base_uri": "https://localhost:8080/"
        },
        "id": "zOVPM8gVzMlq",
        "outputId": "5c00eee3-fff0-4e61-86dd-9e3146a82bcf"
      },
      "source": [
        "score_cb = cross_val(x_new,y_new,tester,CatBoostRegressor, cb_params)"
      ],
      "execution_count": null,
      "outputs": [
        {
          "output_type": "stream",
          "name": "stdout",
          "text": [
            "Fold: 1\n",
            "error: 9.494440721062471\n",
            "--------------------------------------------------\n",
            "Fold: 2\n",
            "error: 9.715098811363942\n",
            "--------------------------------------------------\n",
            "Fold: 3\n",
            "error: 9.65887526964947\n",
            "--------------------------------------------------\n",
            "Fold: 4\n",
            "error: 9.874594625266406\n",
            "--------------------------------------------------\n",
            "Fold: 5\n",
            "error: 9.736519716141293\n",
            "--------------------------------------------------\n",
            "\n",
            "mean error folds: 9.695905828696716\n"
          ]
        }
      ]
    },
    {
      "cell_type": "code",
      "metadata": {
        "id": "XrjAmVW6sHGp"
      },
      "source": [
        "#predict x_new\n",
        "y_val_pred = score_cb.predict(x_new)"
      ],
      "execution_count": null,
      "outputs": []
    },
    {
      "cell_type": "code",
      "metadata": {
        "colab": {
          "base_uri": "https://localhost:8080/",
          "height": 154
        },
        "id": "GEvA1nQAnaZe",
        "outputId": "d75407ea-a5b1-491f-e068-0f7d61138b4c"
      },
      "source": [
        "plt.figure(figsize=(17, 8)) \n",
        "\n",
        "sns.regplot(x = y_new,y = y_val_pred)\n",
        "plt.title(\"actual vs predict\", size=20)\n",
        "plt.xlabel(\"actual\", size=20)\n",
        "plt.ylabel(\"predict\", size=20)\n",
        "plt.show()"
      ],
      "execution_count": null,
      "outputs": [
        {
          "output_type": "display_data",
          "data": {
            "image/png": "[encoded data removed]",
            "text/plain": [
              "<Figure size 1224x576 with 1 Axes>"
            ]
          },
          "metadata": {
            "needs_background": "light"
          }
        }
      ]
    },
    {
      "cell_type": "code",
      "metadata": {
        "colab": {
          "base_uri": "https://localhost:8080/"
        },
        "id": "cL5_BwlxsWwu",
        "outputId": "7a94cb75-661e-4008-e960-faa4b3d49982"
      },
      "source": [
        "#RMSE\n",
        "mean_squared_error(y_new, y_val_pred, squared=False)"
      ],
      "execution_count": null,
      "outputs": [
        {
          "output_type": "execute_result",
          "data": {
            "text/plain": [
              "9.593970079850214"
            ]
          },
          "metadata": {},
          "execution_count": 82
        }
      ]
    },
    {
      "cell_type": "markdown",
      "metadata": {
        "id": "14_QJbgatRwW"
      },
      "source": [
        "# Blending average target"
      ]
    },
    {
      "cell_type": "code",
      "metadata": {
        "id": "7EM3FeZTo--W"
      },
      "source": [
        "\n",
        "#blending\n",
        "Blending_target = np.mean(np.column_stack(test_pred), axis=1)"
      ],
      "execution_count": null,
      "outputs": []
    },
    {
      "cell_type": "code",
      "metadata": {
        "id": "d55TwBkEqeHG"
      },
      "source": [
        "save = pd.DataFrame({\"hours-per-week\": Blending_target})"
      ],
      "execution_count": null,
      "outputs": []
    },
    {
      "cell_type": "code",
      "metadata": {
        "colab": {
          "base_uri": "https://localhost:8080/",
          "height": 419
        },
        "id": "oypdPmnlqom7",
        "outputId": "6c301459-0a8f-4a28-b0a9-2bb3934a8f5c"
      },
      "source": [
        "save"
      ],
      "execution_count": null,
      "outputs": [
        {
          "output_type": "execute_result",
          "data": {
            "text/html": [
              "<div>\n",
              "<style scoped>\n",
              "    .dataframe tbody tr th:only-of-type {\n",
              "        vertical-align: middle;\n",
              "    }\n",
              "\n",
              "    .dataframe tbody tr th {\n",
              "        vertical-align: top;\n",
              "    }\n",
              "\n",
              "    .dataframe thead th {\n",
              "        text-align: right;\n",
              "    }\n",
              "</style>\n",
              "<table border=\"1\" class=\"dataframe\">\n",
              "  <thead>\n",
              "    <tr style=\"text-align: right;\">\n",
              "      <th></th>\n",
              "      <th>hours-per-week</th>\n",
              "    </tr>\n",
              "  </thead>\n",
              "  <tbody>\n",
              "    <tr>\n",
              "      <th>0</th>\n",
              "      <td>37.873731</td>\n",
              "    </tr>\n",
              "    <tr>\n",
              "      <th>1</th>\n",
              "      <td>40.057317</td>\n",
              "    </tr>\n",
              "    <tr>\n",
              "      <th>2</th>\n",
              "      <td>35.681648</td>\n",
              "    </tr>\n",
              "    <tr>\n",
              "      <th>3</th>\n",
              "      <td>44.398721</td>\n",
              "    </tr>\n",
              "    <tr>\n",
              "      <th>4</th>\n",
              "      <td>41.597455</td>\n",
              "    </tr>\n",
              "    <tr>\n",
              "      <th>...</th>\n",
              "      <td>...</td>\n",
              "    </tr>\n",
              "    <tr>\n",
              "      <th>8114</th>\n",
              "      <td>37.870250</td>\n",
              "    </tr>\n",
              "    <tr>\n",
              "      <th>8115</th>\n",
              "      <td>38.338064</td>\n",
              "    </tr>\n",
              "    <tr>\n",
              "      <th>8116</th>\n",
              "      <td>34.065607</td>\n",
              "    </tr>\n",
              "    <tr>\n",
              "      <th>8117</th>\n",
              "      <td>40.078801</td>\n",
              "    </tr>\n",
              "    <tr>\n",
              "      <th>8118</th>\n",
              "      <td>43.213809</td>\n",
              "    </tr>\n",
              "  </tbody>\n",
              "</table>\n",
              "<p>8119 rows × 1 columns</p>\n",
              "</div>"
            ],
            "text/plain": [
              "      hours-per-week\n",
              "0          37.873731\n",
              "1          40.057317\n",
              "2          35.681648\n",
              "3          44.398721\n",
              "4          41.597455\n",
              "...              ...\n",
              "8114       37.870250\n",
              "8115       38.338064\n",
              "8116       34.065607\n",
              "8117       40.078801\n",
              "8118       43.213809\n",
              "\n",
              "[8119 rows x 1 columns]"
            ]
          },
          "metadata": {},
          "execution_count": 85
        }
      ]
    },
    {
      "cell_type": "code",
      "metadata": {
        "id": "jQ6hyZXDq5Ei"
      },
      "source": [
        "save.to_csv(\"my_subs1.csv\", index=False)"
      ],
      "execution_count": null,
      "outputs": []
    }
  ]
}